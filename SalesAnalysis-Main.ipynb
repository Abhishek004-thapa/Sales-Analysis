{
 "cells": [
  {
   "cell_type": "markdown",
   "id": "0ae4e2ba",
   "metadata": {},
   "source": [
    "# By ABHISHEK THAPA\n",
    "## `DataScience INTERN ON CodeClause`\n",
    "## `Allocated Projects:`\n",
    "### `Project no. 01 - SALES ANALYSIS` \n",
    "`Dataset from url :` https://www.kaggle.com/code/knightbearr/analysis-sales-data-knightbearr/data\n",
    "\n",
    "<img src='./images/codeclause-task.png'/>"
   ]
  },
  {
   "cell_type": "markdown",
   "id": "b79bb148",
   "metadata": {},
   "source": [
    "# `Abstract :` \n",
    "\n",
    "This project mainly focuses on small part of Machine Learning i.e Exploratory Data Analysis(EDA). It deals with tools and techniques for the analysis of our sales datasets so that appropriate bussiness strategy can be implemented and gain as much as profit in future. Main feature of this project is that i have implemented `APRIORI ALGORITHM` using `APYORI` Library for frequent Itemsets Generation and Association Rule Mining.\n",
    "\n",
    "\n",
    "### `STEPS : `\n",
    " \n",
    "\n",
    "1) Importing Libraries and Loading Datasets.\n",
    "\n",
    "2) Data Preprocessing & Preparing Datasets.\n",
    "\n",
    "3) Exploratoty Data Analysis(EDA) & Visualization.\n",
    "  \n",
    "        I) Determining Top 3 Months with Maximum and Minimum Sales in 2019.\n",
    "        \n",
    "       II) Top 3 Cities with Maximum  and Minimum Sales in year 2019\n",
    "    \n",
    "      III) Mining Best Time to Display Advertisements to Maximize the Sales.\n",
    "        \n",
    "           - `Analyzing Specific City Sales vs Hour Line Plots`\n",
    "            \n",
    "       IV) Top 5-Most Ordered /Sold Product\n",
    "    \n",
    "        V) Market Basket Analysis- `Apriori Algorithm & Association Rule Mining.`\n",
    "\n",
    "\n",
    "4) Acknowledgement and References\n",
    "\n",
    "## Best Feature:  `Market Basket Analysis using Apriori Algorithm & Rule Mining`\n",
    "\n",
    "\n",
    "\n",
    "#### JUST HAVE A CUP OF COFFEE IN FRONT OF YOU AND EXOLORE 😊 !!! \n",
    "\n",
    "## `Let's Dive into the project` 👇"
   ]
  },
  {
   "cell_type": "markdown",
   "id": "52b07cec",
   "metadata": {},
   "source": [
    "# `STEP-1.` Importing Libraries and Loading Datasets."
   ]
  },
  {
   "cell_type": "code",
   "execution_count": 1,
   "id": "8e83e57c",
   "metadata": {},
   "outputs": [],
   "source": [
    "import pandas as pd\n",
    "import matplotlib.pyplot as plt\n",
    "import numpy as np\n",
    "import seaborn as sns "
   ]
  },
  {
   "cell_type": "code",
   "execution_count": 2,
   "id": "e3858dd4",
   "metadata": {},
   "outputs": [
    {
     "data": {
      "text/html": [
       "<div>\n",
       "<style scoped>\n",
       "    .dataframe tbody tr th:only-of-type {\n",
       "        vertical-align: middle;\n",
       "    }\n",
       "\n",
       "    .dataframe tbody tr th {\n",
       "        vertical-align: top;\n",
       "    }\n",
       "\n",
       "    .dataframe thead th {\n",
       "        text-align: right;\n",
       "    }\n",
       "</style>\n",
       "<table border=\"1\" class=\"dataframe\">\n",
       "  <thead>\n",
       "    <tr style=\"text-align: right;\">\n",
       "      <th></th>\n",
       "      <th>Order ID</th>\n",
       "      <th>Product</th>\n",
       "      <th>Quantity Ordered</th>\n",
       "      <th>Price Each</th>\n",
       "      <th>Order Date</th>\n",
       "      <th>Purchase Address</th>\n",
       "    </tr>\n",
       "  </thead>\n",
       "  <tbody>\n",
       "    <tr>\n",
       "      <th>0</th>\n",
       "      <td>236670</td>\n",
       "      <td>Wired Headphones</td>\n",
       "      <td>2</td>\n",
       "      <td>11.99</td>\n",
       "      <td>08/31/19 22:21</td>\n",
       "      <td>359 Spruce St, Seattle, WA 98101</td>\n",
       "    </tr>\n",
       "    <tr>\n",
       "      <th>1</th>\n",
       "      <td>236671</td>\n",
       "      <td>Bose SoundSport Headphones</td>\n",
       "      <td>1</td>\n",
       "      <td>99.99</td>\n",
       "      <td>08/15/19 15:11</td>\n",
       "      <td>492 Ridge St, Dallas, TX 75001</td>\n",
       "    </tr>\n",
       "    <tr>\n",
       "      <th>2</th>\n",
       "      <td>236672</td>\n",
       "      <td>iPhone</td>\n",
       "      <td>1</td>\n",
       "      <td>700.0</td>\n",
       "      <td>08/06/19 14:40</td>\n",
       "      <td>149 7th St, Portland, OR 97035</td>\n",
       "    </tr>\n",
       "    <tr>\n",
       "      <th>3</th>\n",
       "      <td>236673</td>\n",
       "      <td>AA Batteries (4-pack)</td>\n",
       "      <td>2</td>\n",
       "      <td>3.84</td>\n",
       "      <td>08/29/19 20:59</td>\n",
       "      <td>631 2nd St, Los Angeles, CA 90001</td>\n",
       "    </tr>\n",
       "    <tr>\n",
       "      <th>4</th>\n",
       "      <td>236674</td>\n",
       "      <td>AA Batteries (4-pack)</td>\n",
       "      <td>2</td>\n",
       "      <td>3.84</td>\n",
       "      <td>08/15/19 19:53</td>\n",
       "      <td>736 14th St, New York City, NY 10001</td>\n",
       "    </tr>\n",
       "  </tbody>\n",
       "</table>\n",
       "</div>"
      ],
      "text/plain": [
       "  Order ID                     Product Quantity Ordered Price Each  \\\n",
       "0   236670            Wired Headphones                2      11.99   \n",
       "1   236671  Bose SoundSport Headphones                1      99.99   \n",
       "2   236672                      iPhone                1      700.0   \n",
       "3   236673       AA Batteries (4-pack)                2       3.84   \n",
       "4   236674       AA Batteries (4-pack)                2       3.84   \n",
       "\n",
       "       Order Date                      Purchase Address  \n",
       "0  08/31/19 22:21      359 Spruce St, Seattle, WA 98101  \n",
       "1  08/15/19 15:11        492 Ridge St, Dallas, TX 75001  \n",
       "2  08/06/19 14:40        149 7th St, Portland, OR 97035  \n",
       "3  08/29/19 20:59     631 2nd St, Los Angeles, CA 90001  \n",
       "4  08/15/19 19:53  736 14th St, New York City, NY 10001  "
      ]
     },
     "execution_count": 2,
     "metadata": {},
     "output_type": "execute_result"
    }
   ],
   "source": [
    "original_df = pd.read_csv(\"all_data.csv\")\n",
    "original_df.head()"
   ]
  },
  {
   "cell_type": "markdown",
   "id": "214f5464",
   "metadata": {},
   "source": [
    "Let's make copy of Original datasets and making changes to duplicated dataframe."
   ]
  },
  {
   "cell_type": "code",
   "execution_count": 3,
   "id": "75d0595d",
   "metadata": {},
   "outputs": [
    {
     "data": {
      "text/plain": [
       "(186850, 6)"
      ]
     },
     "execution_count": 3,
     "metadata": {},
     "output_type": "execute_result"
    }
   ],
   "source": [
    "main_df = original_df.copy()\n",
    "main_df.shape"
   ]
  },
  {
   "cell_type": "markdown",
   "id": "4eb94f40",
   "metadata": {},
   "source": [
    "# `STEP-2.` Data Preprocessing & Preparing Datasets."
   ]
  },
  {
   "cell_type": "markdown",
   "id": "0b986364",
   "metadata": {},
   "source": [
    "Checking for any missing values:"
   ]
  },
  {
   "cell_type": "code",
   "execution_count": 4,
   "id": "848c829c",
   "metadata": {},
   "outputs": [
    {
     "data": {
      "text/plain": [
       "Order ID            545\n",
       "Product             545\n",
       "Quantity Ordered    545\n",
       "Price Each          545\n",
       "Order Date          545\n",
       "Purchase Address    545\n",
       "dtype: int64"
      ]
     },
     "execution_count": 4,
     "metadata": {},
     "output_type": "execute_result"
    }
   ],
   "source": [
    "main_df.isna().sum()"
   ]
  },
  {
   "cell_type": "markdown",
   "id": "ceaec99b",
   "metadata": {},
   "source": [
    "Droping rows with NaNs values."
   ]
  },
  {
   "cell_type": "code",
   "execution_count": 5,
   "id": "e1f643a6",
   "metadata": {},
   "outputs": [
    {
     "data": {
      "text/plain": [
       "(186305, 6)"
      ]
     },
     "execution_count": 5,
     "metadata": {},
     "output_type": "execute_result"
    }
   ],
   "source": [
    "main_df.dropna(inplace=True)\n",
    "main_df.shape"
   ]
  },
  {
   "cell_type": "code",
   "execution_count": 6,
   "id": "140ecb38",
   "metadata": {},
   "outputs": [
    {
     "data": {
      "text/plain": [
       "545"
      ]
     },
     "execution_count": 6,
     "metadata": {},
     "output_type": "execute_result"
    }
   ],
   "source": [
    "186850-186305"
   ]
  },
  {
   "cell_type": "markdown",
   "id": "c3e37a72",
   "metadata": {},
   "source": [
    "Let's check for duplicated values."
   ]
  },
  {
   "cell_type": "code",
   "execution_count": 7,
   "id": "4fffce1e",
   "metadata": {},
   "outputs": [
    {
     "data": {
      "text/plain": [
       "618"
      ]
     },
     "execution_count": 7,
     "metadata": {},
     "output_type": "execute_result"
    }
   ],
   "source": [
    "main_df.duplicated().sum()"
   ]
  },
  {
   "cell_type": "markdown",
   "id": "622fefe2",
   "metadata": {},
   "source": [
    "Since OrderId is unique and In our datasets, Same OrderID with the same order Date, two products with same name, same quantity and same address implies that they may be entered twice or more i.e. Duplicated. Thus, such duplicated tuples must not be exist in this scenario. Hence, Droping duplicated Tuples from `main_df` ."
   ]
  },
  {
   "cell_type": "code",
   "execution_count": 8,
   "id": "e79b1398",
   "metadata": {},
   "outputs": [
    {
     "data": {
      "text/plain": [
       "(186305, 6)"
      ]
     },
     "execution_count": 8,
     "metadata": {},
     "output_type": "execute_result"
    }
   ],
   "source": [
    "main_df.shape"
   ]
  },
  {
   "cell_type": "code",
   "execution_count": 9,
   "id": "1571b60c",
   "metadata": {},
   "outputs": [
    {
     "data": {
      "text/plain": [
       "(185687, 6)"
      ]
     },
     "execution_count": 9,
     "metadata": {},
     "output_type": "execute_result"
    }
   ],
   "source": [
    "main_df = main_df.drop_duplicates()\n",
    "main_df.shape"
   ]
  },
  {
   "cell_type": "code",
   "execution_count": 10,
   "id": "e28be0b5",
   "metadata": {},
   "outputs": [
    {
     "data": {
      "text/plain": [
       "185687"
      ]
     },
     "execution_count": 10,
     "metadata": {},
     "output_type": "execute_result"
    }
   ],
   "source": [
    "186305-618"
   ]
  },
  {
   "cell_type": "markdown",
   "id": "41139ed9",
   "metadata": {},
   "source": [
    "Let's Calculate\n",
    "\n",
    "Sales = Quantity Ordered * Price Each"
   ]
  },
  {
   "cell_type": "code",
   "execution_count": 11,
   "id": "60a07018",
   "metadata": {},
   "outputs": [],
   "source": [
    "# main_df['Sales'] = main_df['Quantity Ordered'] * main_df['Price Each']\n",
    "# main_df.head()"
   ]
  },
  {
   "cell_type": "code",
   "execution_count": 12,
   "id": "549d9785",
   "metadata": {},
   "outputs": [
    {
     "data": {
      "text/plain": [
       "Order ID            object\n",
       "Product             object\n",
       "Quantity Ordered    object\n",
       "Price Each          object\n",
       "Order Date          object\n",
       "Purchase Address    object\n",
       "dtype: object"
      ]
     },
     "execution_count": 12,
     "metadata": {},
     "output_type": "execute_result"
    }
   ],
   "source": [
    "original_df.dtypes"
   ]
  },
  {
   "cell_type": "markdown",
   "id": "4cab4efd",
   "metadata": {},
   "source": [
    "Here, Quantity Ordered and Price Each are of Object Dtypes. Converting these into Numeric Datatypes.\n",
    "\n",
    "Then, Let's Calculate\n",
    "\n",
    "Sales = Quantity Ordered * Price Each"
   ]
  },
  {
   "cell_type": "code",
   "execution_count": 13,
   "id": "d30c89c9",
   "metadata": {},
   "outputs": [],
   "source": [
    "# main_df['Quantity Ordered'] = pd.to_numeric(main_df['Quantity Ordered'])\n",
    "# main_df['Price Each'] = pd.to_numeric(main_df['Price Each'])\n",
    "# main_df.dtypes"
   ]
  },
  {
   "cell_type": "code",
   "execution_count": 14,
   "id": "2ce48f29",
   "metadata": {},
   "outputs": [
    {
     "data": {
      "text/plain": [
       "'Quantity Ordered'"
      ]
     },
     "execution_count": 14,
     "metadata": {},
     "output_type": "execute_result"
    }
   ],
   "source": [
    "main_df['Quantity Ordered'].iloc[211]"
   ]
  },
  {
   "cell_type": "code",
   "execution_count": 15,
   "id": "23dbb306",
   "metadata": {},
   "outputs": [
    {
     "data": {
      "text/html": [
       "<div>\n",
       "<style scoped>\n",
       "    .dataframe tbody tr th:only-of-type {\n",
       "        vertical-align: middle;\n",
       "    }\n",
       "\n",
       "    .dataframe tbody tr th {\n",
       "        vertical-align: top;\n",
       "    }\n",
       "\n",
       "    .dataframe thead th {\n",
       "        text-align: right;\n",
       "    }\n",
       "</style>\n",
       "<table border=\"1\" class=\"dataframe\">\n",
       "  <thead>\n",
       "    <tr style=\"text-align: right;\">\n",
       "      <th></th>\n",
       "      <th>Order ID</th>\n",
       "      <th>Product</th>\n",
       "      <th>Quantity Ordered</th>\n",
       "      <th>Price Each</th>\n",
       "      <th>Order Date</th>\n",
       "      <th>Purchase Address</th>\n",
       "    </tr>\n",
       "  </thead>\n",
       "  <tbody>\n",
       "    <tr>\n",
       "      <th>211</th>\n",
       "      <td>Order ID</td>\n",
       "      <td>Product</td>\n",
       "      <td>Quantity Ordered</td>\n",
       "      <td>Price Each</td>\n",
       "      <td>Order Date</td>\n",
       "      <td>Purchase Address</td>\n",
       "    </tr>\n",
       "  </tbody>\n",
       "</table>\n",
       "</div>"
      ],
      "text/plain": [
       "     Order ID  Product  Quantity Ordered  Price Each  Order Date  \\\n",
       "211  Order ID  Product  Quantity Ordered  Price Each  Order Date   \n",
       "\n",
       "     Purchase Address  \n",
       "211  Purchase Address  "
      ]
     },
     "execution_count": 15,
     "metadata": {},
     "output_type": "execute_result"
    }
   ],
   "source": [
    "temp_df = main_df[main_df['Quantity Ordered'] == 'Quantity Ordered']\n",
    "temp_df"
   ]
  },
  {
   "cell_type": "markdown",
   "id": "c6e2c14e",
   "metadata": {},
   "source": [
    "There are some tuples in our datasets whose values are exactly same as their column names. Thus, we need to remove these  tuples."
   ]
  },
  {
   "cell_type": "code",
   "execution_count": 16,
   "id": "c28de302",
   "metadata": {},
   "outputs": [
    {
     "data": {
      "text/plain": [
       "(185687, 6)"
      ]
     },
     "execution_count": 16,
     "metadata": {},
     "output_type": "execute_result"
    }
   ],
   "source": [
    "main_df.shape"
   ]
  },
  {
   "cell_type": "code",
   "execution_count": 17,
   "id": "5a17c717",
   "metadata": {},
   "outputs": [
    {
     "data": {
      "text/plain": [
       "(185686, 6)"
      ]
     },
     "execution_count": 17,
     "metadata": {},
     "output_type": "execute_result"
    }
   ],
   "source": [
    "main_df = main_df[main_df['Quantity Ordered'] != 'Quantity Ordered']\n",
    "main_df.shape"
   ]
  },
  {
   "cell_type": "markdown",
   "id": "40394bc8",
   "metadata": {},
   "source": [
    "Okay, Only one of tuple with index location 211 consists of tuples with values equal to their column names. Other duplicated tuples are droped before using `drop_duplicates()`"
   ]
  },
  {
   "cell_type": "code",
   "execution_count": 18,
   "id": "f57c7681",
   "metadata": {},
   "outputs": [],
   "source": [
    "main_df['Quantity Ordered'] = pd.to_numeric(main_df['Quantity Ordered'])\n",
    "main_df['Price Each'] = pd.to_numeric(main_df['Price Each'])"
   ]
  },
  {
   "cell_type": "code",
   "execution_count": 19,
   "id": "650c0c84",
   "metadata": {},
   "outputs": [
    {
     "data": {
      "text/html": [
       "<div>\n",
       "<style scoped>\n",
       "    .dataframe tbody tr th:only-of-type {\n",
       "        vertical-align: middle;\n",
       "    }\n",
       "\n",
       "    .dataframe tbody tr th {\n",
       "        vertical-align: top;\n",
       "    }\n",
       "\n",
       "    .dataframe thead th {\n",
       "        text-align: right;\n",
       "    }\n",
       "</style>\n",
       "<table border=\"1\" class=\"dataframe\">\n",
       "  <thead>\n",
       "    <tr style=\"text-align: right;\">\n",
       "      <th></th>\n",
       "      <th>Order ID</th>\n",
       "      <th>Product</th>\n",
       "      <th>Quantity Ordered</th>\n",
       "      <th>Price Each</th>\n",
       "      <th>Order Date</th>\n",
       "      <th>Purchase Address</th>\n",
       "    </tr>\n",
       "  </thead>\n",
       "  <tbody>\n",
       "    <tr>\n",
       "      <th>0</th>\n",
       "      <td>236670</td>\n",
       "      <td>Wired Headphones</td>\n",
       "      <td>2</td>\n",
       "      <td>11.99</td>\n",
       "      <td>08/31/19 22:21</td>\n",
       "      <td>359 Spruce St, Seattle, WA 98101</td>\n",
       "    </tr>\n",
       "    <tr>\n",
       "      <th>1</th>\n",
       "      <td>236671</td>\n",
       "      <td>Bose SoundSport Headphones</td>\n",
       "      <td>1</td>\n",
       "      <td>99.99</td>\n",
       "      <td>08/15/19 15:11</td>\n",
       "      <td>492 Ridge St, Dallas, TX 75001</td>\n",
       "    </tr>\n",
       "    <tr>\n",
       "      <th>2</th>\n",
       "      <td>236672</td>\n",
       "      <td>iPhone</td>\n",
       "      <td>1</td>\n",
       "      <td>700.00</td>\n",
       "      <td>08/06/19 14:40</td>\n",
       "      <td>149 7th St, Portland, OR 97035</td>\n",
       "    </tr>\n",
       "    <tr>\n",
       "      <th>3</th>\n",
       "      <td>236673</td>\n",
       "      <td>AA Batteries (4-pack)</td>\n",
       "      <td>2</td>\n",
       "      <td>3.84</td>\n",
       "      <td>08/29/19 20:59</td>\n",
       "      <td>631 2nd St, Los Angeles, CA 90001</td>\n",
       "    </tr>\n",
       "    <tr>\n",
       "      <th>4</th>\n",
       "      <td>236674</td>\n",
       "      <td>AA Batteries (4-pack)</td>\n",
       "      <td>2</td>\n",
       "      <td>3.84</td>\n",
       "      <td>08/15/19 19:53</td>\n",
       "      <td>736 14th St, New York City, NY 10001</td>\n",
       "    </tr>\n",
       "  </tbody>\n",
       "</table>\n",
       "</div>"
      ],
      "text/plain": [
       "  Order ID                     Product  Quantity Ordered  Price Each  \\\n",
       "0   236670            Wired Headphones                 2       11.99   \n",
       "1   236671  Bose SoundSport Headphones                 1       99.99   \n",
       "2   236672                      iPhone                 1      700.00   \n",
       "3   236673       AA Batteries (4-pack)                 2        3.84   \n",
       "4   236674       AA Batteries (4-pack)                 2        3.84   \n",
       "\n",
       "       Order Date                      Purchase Address  \n",
       "0  08/31/19 22:21      359 Spruce St, Seattle, WA 98101  \n",
       "1  08/15/19 15:11        492 Ridge St, Dallas, TX 75001  \n",
       "2  08/06/19 14:40        149 7th St, Portland, OR 97035  \n",
       "3  08/29/19 20:59     631 2nd St, Los Angeles, CA 90001  \n",
       "4  08/15/19 19:53  736 14th St, New York City, NY 10001  "
      ]
     },
     "execution_count": 19,
     "metadata": {},
     "output_type": "execute_result"
    }
   ],
   "source": [
    "main_df.head()"
   ]
  },
  {
   "cell_type": "code",
   "execution_count": 20,
   "id": "edf343c3",
   "metadata": {},
   "outputs": [
    {
     "data": {
      "text/html": [
       "<div>\n",
       "<style scoped>\n",
       "    .dataframe tbody tr th:only-of-type {\n",
       "        vertical-align: middle;\n",
       "    }\n",
       "\n",
       "    .dataframe tbody tr th {\n",
       "        vertical-align: top;\n",
       "    }\n",
       "\n",
       "    .dataframe thead th {\n",
       "        text-align: right;\n",
       "    }\n",
       "</style>\n",
       "<table border=\"1\" class=\"dataframe\">\n",
       "  <thead>\n",
       "    <tr style=\"text-align: right;\">\n",
       "      <th></th>\n",
       "      <th>Order ID</th>\n",
       "      <th>Product</th>\n",
       "      <th>Quantity Ordered</th>\n",
       "      <th>Price Each</th>\n",
       "      <th>Order Date</th>\n",
       "      <th>Purchase Address</th>\n",
       "      <th>Sales</th>\n",
       "    </tr>\n",
       "  </thead>\n",
       "  <tbody>\n",
       "    <tr>\n",
       "      <th>0</th>\n",
       "      <td>236670</td>\n",
       "      <td>Wired Headphones</td>\n",
       "      <td>2</td>\n",
       "      <td>11.99</td>\n",
       "      <td>08/31/19 22:21</td>\n",
       "      <td>359 Spruce St, Seattle, WA 98101</td>\n",
       "      <td>23.98</td>\n",
       "    </tr>\n",
       "    <tr>\n",
       "      <th>1</th>\n",
       "      <td>236671</td>\n",
       "      <td>Bose SoundSport Headphones</td>\n",
       "      <td>1</td>\n",
       "      <td>99.99</td>\n",
       "      <td>08/15/19 15:11</td>\n",
       "      <td>492 Ridge St, Dallas, TX 75001</td>\n",
       "      <td>99.99</td>\n",
       "    </tr>\n",
       "    <tr>\n",
       "      <th>2</th>\n",
       "      <td>236672</td>\n",
       "      <td>iPhone</td>\n",
       "      <td>1</td>\n",
       "      <td>700.00</td>\n",
       "      <td>08/06/19 14:40</td>\n",
       "      <td>149 7th St, Portland, OR 97035</td>\n",
       "      <td>700.00</td>\n",
       "    </tr>\n",
       "    <tr>\n",
       "      <th>3</th>\n",
       "      <td>236673</td>\n",
       "      <td>AA Batteries (4-pack)</td>\n",
       "      <td>2</td>\n",
       "      <td>3.84</td>\n",
       "      <td>08/29/19 20:59</td>\n",
       "      <td>631 2nd St, Los Angeles, CA 90001</td>\n",
       "      <td>7.68</td>\n",
       "    </tr>\n",
       "    <tr>\n",
       "      <th>4</th>\n",
       "      <td>236674</td>\n",
       "      <td>AA Batteries (4-pack)</td>\n",
       "      <td>2</td>\n",
       "      <td>3.84</td>\n",
       "      <td>08/15/19 19:53</td>\n",
       "      <td>736 14th St, New York City, NY 10001</td>\n",
       "      <td>7.68</td>\n",
       "    </tr>\n",
       "  </tbody>\n",
       "</table>\n",
       "</div>"
      ],
      "text/plain": [
       "  Order ID                     Product  Quantity Ordered  Price Each  \\\n",
       "0   236670            Wired Headphones                 2       11.99   \n",
       "1   236671  Bose SoundSport Headphones                 1       99.99   \n",
       "2   236672                      iPhone                 1      700.00   \n",
       "3   236673       AA Batteries (4-pack)                 2        3.84   \n",
       "4   236674       AA Batteries (4-pack)                 2        3.84   \n",
       "\n",
       "       Order Date                      Purchase Address   Sales  \n",
       "0  08/31/19 22:21      359 Spruce St, Seattle, WA 98101   23.98  \n",
       "1  08/15/19 15:11        492 Ridge St, Dallas, TX 75001   99.99  \n",
       "2  08/06/19 14:40        149 7th St, Portland, OR 97035  700.00  \n",
       "3  08/29/19 20:59     631 2nd St, Los Angeles, CA 90001    7.68  \n",
       "4  08/15/19 19:53  736 14th St, New York City, NY 10001    7.68  "
      ]
     },
     "execution_count": 20,
     "metadata": {},
     "output_type": "execute_result"
    }
   ],
   "source": [
    "main_df['Sales'] = main_df['Quantity Ordered'] * main_df['Price Each']\n",
    "main_df.head()"
   ]
  },
  {
   "cell_type": "markdown",
   "id": "012d8203",
   "metadata": {},
   "source": [
    "# `STEP-3.`  Exploratoty Data Analysis(EDA) & Visualization:"
   ]
  },
  {
   "cell_type": "markdown",
   "id": "b1ee70a7",
   "metadata": {},
   "source": [
    "Finding Correlation between numeric Datasets:"
   ]
  },
  {
   "cell_type": "code",
   "execution_count": 21,
   "id": "7b52c91c",
   "metadata": {},
   "outputs": [
    {
     "data": {
      "text/html": [
       "<div>\n",
       "<style scoped>\n",
       "    .dataframe tbody tr th:only-of-type {\n",
       "        vertical-align: middle;\n",
       "    }\n",
       "\n",
       "    .dataframe tbody tr th {\n",
       "        vertical-align: top;\n",
       "    }\n",
       "\n",
       "    .dataframe thead th {\n",
       "        text-align: right;\n",
       "    }\n",
       "</style>\n",
       "<table border=\"1\" class=\"dataframe\">\n",
       "  <thead>\n",
       "    <tr style=\"text-align: right;\">\n",
       "      <th></th>\n",
       "      <th>Quantity Ordered</th>\n",
       "      <th>Price Each</th>\n",
       "      <th>Sales</th>\n",
       "    </tr>\n",
       "  </thead>\n",
       "  <tbody>\n",
       "    <tr>\n",
       "      <th>Quantity Ordered</th>\n",
       "      <td>1.000000</td>\n",
       "      <td>-0.148422</td>\n",
       "      <td>-0.139564</td>\n",
       "    </tr>\n",
       "    <tr>\n",
       "      <th>Price Each</th>\n",
       "      <td>-0.148422</td>\n",
       "      <td>1.000000</td>\n",
       "      <td>0.999202</td>\n",
       "    </tr>\n",
       "    <tr>\n",
       "      <th>Sales</th>\n",
       "      <td>-0.139564</td>\n",
       "      <td>0.999202</td>\n",
       "      <td>1.000000</td>\n",
       "    </tr>\n",
       "  </tbody>\n",
       "</table>\n",
       "</div>"
      ],
      "text/plain": [
       "                  Quantity Ordered  Price Each     Sales\n",
       "Quantity Ordered          1.000000   -0.148422 -0.139564\n",
       "Price Each               -0.148422    1.000000  0.999202\n",
       "Sales                    -0.139564    0.999202  1.000000"
      ]
     },
     "execution_count": 21,
     "metadata": {},
     "output_type": "execute_result"
    }
   ],
   "source": [
    "main_df.corr()"
   ]
  },
  {
   "cell_type": "code",
   "execution_count": 22,
   "id": "bc8b7619",
   "metadata": {},
   "outputs": [
    {
     "data": {
      "image/png": "[encoded data removed]",
      "text/plain": [
       "<Figure size 640x480 with 2 Axes>"
      ]
     },
     "metadata": {},
     "output_type": "display_data"
    }
   ],
   "source": [
    "sns.heatmap(main_df.corr(), cmap='winter', annot=True );"
   ]
  },
  {
   "cell_type": "markdown",
   "id": "8eb39423",
   "metadata": {},
   "source": [
    "Price Each and Sales Attributes are highly correlated.\n",
    "\n",
    "Since, Sales is directly proportional to Price of Each Items."
   ]
  },
  {
   "cell_type": "markdown",
   "id": "71f689ed",
   "metadata": {},
   "source": [
    "## I) Determining Top 3 Months with Maximum and Minimum Sales in 2019."
   ]
  },
  {
   "cell_type": "code",
   "execution_count": 23,
   "id": "160fb550",
   "metadata": {},
   "outputs": [
    {
     "data": {
      "text/plain": [
       "dtype('O')"
      ]
     },
     "execution_count": 23,
     "metadata": {},
     "output_type": "execute_result"
    }
   ],
   "source": [
    "main_df['Order Date'].dtypes"
   ]
  },
  {
   "cell_type": "markdown",
   "id": "75dfd9af",
   "metadata": {},
   "source": [
    "### Converting Object type into python Date Time Object using `pd.to_datetime()`\n",
    "\n",
    "This takes little time for processing. Just be Patience!"
   ]
  },
  {
   "cell_type": "code",
   "execution_count": 24,
   "id": "903fe976",
   "metadata": {},
   "outputs": [
    {
     "data": {
      "text/plain": [
       "dtype('<M8[ns]')"
      ]
     },
     "execution_count": 24,
     "metadata": {},
     "output_type": "execute_result"
    }
   ],
   "source": [
    "main_df['Order Date'] = pd.to_datetime(main_df['Order Date'])\n",
    "main_df['Order Date'].dtypes"
   ]
  },
  {
   "cell_type": "markdown",
   "id": "d576c65f",
   "metadata": {},
   "source": [
    "#### <M8[ns] is equivalent to Python DateTime DataType"
   ]
  },
  {
   "cell_type": "code",
   "execution_count": 25,
   "id": "d6c6400e",
   "metadata": {},
   "outputs": [
    {
     "data": {
      "text/html": [
       "<div>\n",
       "<style scoped>\n",
       "    .dataframe tbody tr th:only-of-type {\n",
       "        vertical-align: middle;\n",
       "    }\n",
       "\n",
       "    .dataframe tbody tr th {\n",
       "        vertical-align: top;\n",
       "    }\n",
       "\n",
       "    .dataframe thead th {\n",
       "        text-align: right;\n",
       "    }\n",
       "</style>\n",
       "<table border=\"1\" class=\"dataframe\">\n",
       "  <thead>\n",
       "    <tr style=\"text-align: right;\">\n",
       "      <th></th>\n",
       "      <th>Order ID</th>\n",
       "      <th>Product</th>\n",
       "      <th>Quantity Ordered</th>\n",
       "      <th>Price Each</th>\n",
       "      <th>Order Date</th>\n",
       "      <th>Purchase Address</th>\n",
       "      <th>Sales</th>\n",
       "    </tr>\n",
       "  </thead>\n",
       "  <tbody>\n",
       "    <tr>\n",
       "      <th>0</th>\n",
       "      <td>236670</td>\n",
       "      <td>Wired Headphones</td>\n",
       "      <td>2</td>\n",
       "      <td>11.99</td>\n",
       "      <td>2019-08-31 22:21:00</td>\n",
       "      <td>359 Spruce St, Seattle, WA 98101</td>\n",
       "      <td>23.98</td>\n",
       "    </tr>\n",
       "    <tr>\n",
       "      <th>1</th>\n",
       "      <td>236671</td>\n",
       "      <td>Bose SoundSport Headphones</td>\n",
       "      <td>1</td>\n",
       "      <td>99.99</td>\n",
       "      <td>2019-08-15 15:11:00</td>\n",
       "      <td>492 Ridge St, Dallas, TX 75001</td>\n",
       "      <td>99.99</td>\n",
       "    </tr>\n",
       "    <tr>\n",
       "      <th>2</th>\n",
       "      <td>236672</td>\n",
       "      <td>iPhone</td>\n",
       "      <td>1</td>\n",
       "      <td>700.00</td>\n",
       "      <td>2019-08-06 14:40:00</td>\n",
       "      <td>149 7th St, Portland, OR 97035</td>\n",
       "      <td>700.00</td>\n",
       "    </tr>\n",
       "    <tr>\n",
       "      <th>3</th>\n",
       "      <td>236673</td>\n",
       "      <td>AA Batteries (4-pack)</td>\n",
       "      <td>2</td>\n",
       "      <td>3.84</td>\n",
       "      <td>2019-08-29 20:59:00</td>\n",
       "      <td>631 2nd St, Los Angeles, CA 90001</td>\n",
       "      <td>7.68</td>\n",
       "    </tr>\n",
       "    <tr>\n",
       "      <th>4</th>\n",
       "      <td>236674</td>\n",
       "      <td>AA Batteries (4-pack)</td>\n",
       "      <td>2</td>\n",
       "      <td>3.84</td>\n",
       "      <td>2019-08-15 19:53:00</td>\n",
       "      <td>736 14th St, New York City, NY 10001</td>\n",
       "      <td>7.68</td>\n",
       "    </tr>\n",
       "  </tbody>\n",
       "</table>\n",
       "</div>"
      ],
      "text/plain": [
       "  Order ID                     Product  Quantity Ordered  Price Each  \\\n",
       "0   236670            Wired Headphones                 2       11.99   \n",
       "1   236671  Bose SoundSport Headphones                 1       99.99   \n",
       "2   236672                      iPhone                 1      700.00   \n",
       "3   236673       AA Batteries (4-pack)                 2        3.84   \n",
       "4   236674       AA Batteries (4-pack)                 2        3.84   \n",
       "\n",
       "           Order Date                      Purchase Address   Sales  \n",
       "0 2019-08-31 22:21:00      359 Spruce St, Seattle, WA 98101   23.98  \n",
       "1 2019-08-15 15:11:00        492 Ridge St, Dallas, TX 75001   99.99  \n",
       "2 2019-08-06 14:40:00        149 7th St, Portland, OR 97035  700.00  \n",
       "3 2019-08-29 20:59:00     631 2nd St, Los Angeles, CA 90001    7.68  \n",
       "4 2019-08-15 19:53:00  736 14th St, New York City, NY 10001    7.68  "
      ]
     },
     "execution_count": 25,
     "metadata": {},
     "output_type": "execute_result"
    }
   ],
   "source": [
    "main_df.head()"
   ]
  },
  {
   "cell_type": "markdown",
   "id": "75d49b55",
   "metadata": {},
   "source": [
    "Adding `Month` attribute to `main_df` which consists month of Order Date"
   ]
  },
  {
   "cell_type": "code",
   "execution_count": 26,
   "id": "92ad22d1",
   "metadata": {},
   "outputs": [
    {
     "data": {
      "text/html": [
       "<div>\n",
       "<style scoped>\n",
       "    .dataframe tbody tr th:only-of-type {\n",
       "        vertical-align: middle;\n",
       "    }\n",
       "\n",
       "    .dataframe tbody tr th {\n",
       "        vertical-align: top;\n",
       "    }\n",
       "\n",
       "    .dataframe thead th {\n",
       "        text-align: right;\n",
       "    }\n",
       "</style>\n",
       "<table border=\"1\" class=\"dataframe\">\n",
       "  <thead>\n",
       "    <tr style=\"text-align: right;\">\n",
       "      <th></th>\n",
       "      <th>Order ID</th>\n",
       "      <th>Product</th>\n",
       "      <th>Quantity Ordered</th>\n",
       "      <th>Price Each</th>\n",
       "      <th>Order Date</th>\n",
       "      <th>Purchase Address</th>\n",
       "      <th>Sales</th>\n",
       "      <th>month_no</th>\n",
       "    </tr>\n",
       "  </thead>\n",
       "  <tbody>\n",
       "    <tr>\n",
       "      <th>0</th>\n",
       "      <td>236670</td>\n",
       "      <td>Wired Headphones</td>\n",
       "      <td>2</td>\n",
       "      <td>11.99</td>\n",
       "      <td>2019-08-31 22:21:00</td>\n",
       "      <td>359 Spruce St, Seattle, WA 98101</td>\n",
       "      <td>23.98</td>\n",
       "      <td>8</td>\n",
       "    </tr>\n",
       "    <tr>\n",
       "      <th>1</th>\n",
       "      <td>236671</td>\n",
       "      <td>Bose SoundSport Headphones</td>\n",
       "      <td>1</td>\n",
       "      <td>99.99</td>\n",
       "      <td>2019-08-15 15:11:00</td>\n",
       "      <td>492 Ridge St, Dallas, TX 75001</td>\n",
       "      <td>99.99</td>\n",
       "      <td>8</td>\n",
       "    </tr>\n",
       "    <tr>\n",
       "      <th>2</th>\n",
       "      <td>236672</td>\n",
       "      <td>iPhone</td>\n",
       "      <td>1</td>\n",
       "      <td>700.00</td>\n",
       "      <td>2019-08-06 14:40:00</td>\n",
       "      <td>149 7th St, Portland, OR 97035</td>\n",
       "      <td>700.00</td>\n",
       "      <td>8</td>\n",
       "    </tr>\n",
       "    <tr>\n",
       "      <th>3</th>\n",
       "      <td>236673</td>\n",
       "      <td>AA Batteries (4-pack)</td>\n",
       "      <td>2</td>\n",
       "      <td>3.84</td>\n",
       "      <td>2019-08-29 20:59:00</td>\n",
       "      <td>631 2nd St, Los Angeles, CA 90001</td>\n",
       "      <td>7.68</td>\n",
       "      <td>8</td>\n",
       "    </tr>\n",
       "    <tr>\n",
       "      <th>4</th>\n",
       "      <td>236674</td>\n",
       "      <td>AA Batteries (4-pack)</td>\n",
       "      <td>2</td>\n",
       "      <td>3.84</td>\n",
       "      <td>2019-08-15 19:53:00</td>\n",
       "      <td>736 14th St, New York City, NY 10001</td>\n",
       "      <td>7.68</td>\n",
       "      <td>8</td>\n",
       "    </tr>\n",
       "  </tbody>\n",
       "</table>\n",
       "</div>"
      ],
      "text/plain": [
       "  Order ID                     Product  Quantity Ordered  Price Each  \\\n",
       "0   236670            Wired Headphones                 2       11.99   \n",
       "1   236671  Bose SoundSport Headphones                 1       99.99   \n",
       "2   236672                      iPhone                 1      700.00   \n",
       "3   236673       AA Batteries (4-pack)                 2        3.84   \n",
       "4   236674       AA Batteries (4-pack)                 2        3.84   \n",
       "\n",
       "           Order Date                      Purchase Address   Sales  month_no  \n",
       "0 2019-08-31 22:21:00      359 Spruce St, Seattle, WA 98101   23.98         8  \n",
       "1 2019-08-15 15:11:00        492 Ridge St, Dallas, TX 75001   99.99         8  \n",
       "2 2019-08-06 14:40:00        149 7th St, Portland, OR 97035  700.00         8  \n",
       "3 2019-08-29 20:59:00     631 2nd St, Los Angeles, CA 90001    7.68         8  \n",
       "4 2019-08-15 19:53:00  736 14th St, New York City, NY 10001    7.68         8  "
      ]
     },
     "execution_count": 26,
     "metadata": {},
     "output_type": "execute_result"
    }
   ],
   "source": [
    "main_df['month_no'] = main_df['Order Date'].dt.month\n",
    "main_df.head()"
   ]
  },
  {
   "cell_type": "code",
   "execution_count": 27,
   "id": "034917a4",
   "metadata": {},
   "outputs": [
    {
     "data": {
      "text/plain": [
       "dtype('int64')"
      ]
     },
     "execution_count": 27,
     "metadata": {},
     "output_type": "execute_result"
    }
   ],
   "source": [
    "main_df['month_no'].dtypes"
   ]
  },
  {
   "cell_type": "code",
   "execution_count": 28,
   "id": "457bc85b",
   "metadata": {},
   "outputs": [
    {
     "data": {
      "text/html": [
       "<div>\n",
       "<style scoped>\n",
       "    .dataframe tbody tr th:only-of-type {\n",
       "        vertical-align: middle;\n",
       "    }\n",
       "\n",
       "    .dataframe tbody tr th {\n",
       "        vertical-align: top;\n",
       "    }\n",
       "\n",
       "    .dataframe thead th {\n",
       "        text-align: right;\n",
       "    }\n",
       "</style>\n",
       "<table border=\"1\" class=\"dataframe\">\n",
       "  <thead>\n",
       "    <tr style=\"text-align: right;\">\n",
       "      <th></th>\n",
       "      <th>Order ID</th>\n",
       "      <th>Product</th>\n",
       "      <th>Quantity Ordered</th>\n",
       "      <th>Price Each</th>\n",
       "      <th>Order Date</th>\n",
       "      <th>Purchase Address</th>\n",
       "      <th>Sales</th>\n",
       "      <th>month_no</th>\n",
       "      <th>Month</th>\n",
       "    </tr>\n",
       "  </thead>\n",
       "  <tbody>\n",
       "    <tr>\n",
       "      <th>0</th>\n",
       "      <td>236670</td>\n",
       "      <td>Wired Headphones</td>\n",
       "      <td>2</td>\n",
       "      <td>11.99</td>\n",
       "      <td>2019-08-31 22:21:00</td>\n",
       "      <td>359 Spruce St, Seattle, WA 98101</td>\n",
       "      <td>23.98</td>\n",
       "      <td>8</td>\n",
       "      <td>Aug</td>\n",
       "    </tr>\n",
       "    <tr>\n",
       "      <th>1</th>\n",
       "      <td>236671</td>\n",
       "      <td>Bose SoundSport Headphones</td>\n",
       "      <td>1</td>\n",
       "      <td>99.99</td>\n",
       "      <td>2019-08-15 15:11:00</td>\n",
       "      <td>492 Ridge St, Dallas, TX 75001</td>\n",
       "      <td>99.99</td>\n",
       "      <td>8</td>\n",
       "      <td>Aug</td>\n",
       "    </tr>\n",
       "    <tr>\n",
       "      <th>2</th>\n",
       "      <td>236672</td>\n",
       "      <td>iPhone</td>\n",
       "      <td>1</td>\n",
       "      <td>700.00</td>\n",
       "      <td>2019-08-06 14:40:00</td>\n",
       "      <td>149 7th St, Portland, OR 97035</td>\n",
       "      <td>700.00</td>\n",
       "      <td>8</td>\n",
       "      <td>Aug</td>\n",
       "    </tr>\n",
       "    <tr>\n",
       "      <th>3</th>\n",
       "      <td>236673</td>\n",
       "      <td>AA Batteries (4-pack)</td>\n",
       "      <td>2</td>\n",
       "      <td>3.84</td>\n",
       "      <td>2019-08-29 20:59:00</td>\n",
       "      <td>631 2nd St, Los Angeles, CA 90001</td>\n",
       "      <td>7.68</td>\n",
       "      <td>8</td>\n",
       "      <td>Aug</td>\n",
       "    </tr>\n",
       "    <tr>\n",
       "      <th>4</th>\n",
       "      <td>236674</td>\n",
       "      <td>AA Batteries (4-pack)</td>\n",
       "      <td>2</td>\n",
       "      <td>3.84</td>\n",
       "      <td>2019-08-15 19:53:00</td>\n",
       "      <td>736 14th St, New York City, NY 10001</td>\n",
       "      <td>7.68</td>\n",
       "      <td>8</td>\n",
       "      <td>Aug</td>\n",
       "    </tr>\n",
       "  </tbody>\n",
       "</table>\n",
       "</div>"
      ],
      "text/plain": [
       "  Order ID                     Product  Quantity Ordered  Price Each  \\\n",
       "0   236670            Wired Headphones                 2       11.99   \n",
       "1   236671  Bose SoundSport Headphones                 1       99.99   \n",
       "2   236672                      iPhone                 1      700.00   \n",
       "3   236673       AA Batteries (4-pack)                 2        3.84   \n",
       "4   236674       AA Batteries (4-pack)                 2        3.84   \n",
       "\n",
       "           Order Date                      Purchase Address   Sales  month_no  \\\n",
       "0 2019-08-31 22:21:00      359 Spruce St, Seattle, WA 98101   23.98         8   \n",
       "1 2019-08-15 15:11:00        492 Ridge St, Dallas, TX 75001   99.99         8   \n",
       "2 2019-08-06 14:40:00        149 7th St, Portland, OR 97035  700.00         8   \n",
       "3 2019-08-29 20:59:00     631 2nd St, Los Angeles, CA 90001    7.68         8   \n",
       "4 2019-08-15 19:53:00  736 14th St, New York City, NY 10001    7.68         8   \n",
       "\n",
       "  Month  \n",
       "0   Aug  \n",
       "1   Aug  \n",
       "2   Aug  \n",
       "3   Aug  \n",
       "4   Aug  "
      ]
     },
     "execution_count": 28,
     "metadata": {},
     "output_type": "execute_result"
    }
   ],
   "source": [
    "main_df['Month'] = main_df['month_no'].replace({1:'Jan', 2:'Feb', 3:'Mar', 4:'Apr',\n",
    "                                      5:'May', 6:'Jun', 7:'Jul', 8:'Aug', 9:'Sep', 10:'Oct', 11:'Nov', 12:'Dec'})\n",
    "main_df.head()"
   ]
  },
  {
   "cell_type": "markdown",
   "id": "23e7e8a9",
   "metadata": {},
   "source": [
    "### Sorting our `main_df` by Month."
   ]
  },
  {
   "cell_type": "code",
   "execution_count": 29,
   "id": "bd7dea20",
   "metadata": {},
   "outputs": [
    {
     "data": {
      "text/html": [
       "<div>\n",
       "<style scoped>\n",
       "    .dataframe tbody tr th:only-of-type {\n",
       "        vertical-align: middle;\n",
       "    }\n",
       "\n",
       "    .dataframe tbody tr th {\n",
       "        vertical-align: top;\n",
       "    }\n",
       "\n",
       "    .dataframe thead th {\n",
       "        text-align: right;\n",
       "    }\n",
       "</style>\n",
       "<table border=\"1\" class=\"dataframe\">\n",
       "  <thead>\n",
       "    <tr style=\"text-align: right;\">\n",
       "      <th></th>\n",
       "      <th>Order ID</th>\n",
       "      <th>Product</th>\n",
       "      <th>Quantity Ordered</th>\n",
       "      <th>Price Each</th>\n",
       "      <th>Order Date</th>\n",
       "      <th>Purchase Address</th>\n",
       "      <th>Sales</th>\n",
       "      <th>month_no</th>\n",
       "      <th>Month</th>\n",
       "    </tr>\n",
       "  </thead>\n",
       "  <tbody>\n",
       "    <tr>\n",
       "      <th>61134</th>\n",
       "      <td>143879</td>\n",
       "      <td>USB-C Charging Cable</td>\n",
       "      <td>1</td>\n",
       "      <td>11.95</td>\n",
       "      <td>2019-01-28 12:11:00</td>\n",
       "      <td>665 Adams St, San Francisco, CA 94016</td>\n",
       "      <td>11.95</td>\n",
       "      <td>1</td>\n",
       "      <td>Jan</td>\n",
       "    </tr>\n",
       "    <tr>\n",
       "      <th>62887</th>\n",
       "      <td>145550</td>\n",
       "      <td>Apple Airpods Headphones</td>\n",
       "      <td>1</td>\n",
       "      <td>150.00</td>\n",
       "      <td>2019-01-30 18:53:00</td>\n",
       "      <td>505 North St, Seattle, WA 98101</td>\n",
       "      <td>150.00</td>\n",
       "      <td>1</td>\n",
       "      <td>Jan</td>\n",
       "    </tr>\n",
       "    <tr>\n",
       "      <th>62886</th>\n",
       "      <td>145549</td>\n",
       "      <td>Apple Airpods Headphones</td>\n",
       "      <td>1</td>\n",
       "      <td>150.00</td>\n",
       "      <td>2019-01-02 09:45:00</td>\n",
       "      <td>644 1st St, San Francisco, CA 94016</td>\n",
       "      <td>150.00</td>\n",
       "      <td>1</td>\n",
       "      <td>Jan</td>\n",
       "    </tr>\n",
       "    <tr>\n",
       "      <th>62885</th>\n",
       "      <td>145548</td>\n",
       "      <td>iPhone</td>\n",
       "      <td>1</td>\n",
       "      <td>700.00</td>\n",
       "      <td>2019-01-04 08:21:00</td>\n",
       "      <td>695 2nd St, Austin, TX 73301</td>\n",
       "      <td>700.00</td>\n",
       "      <td>1</td>\n",
       "      <td>Jan</td>\n",
       "    </tr>\n",
       "    <tr>\n",
       "      <th>62884</th>\n",
       "      <td>145547</td>\n",
       "      <td>AAA Batteries (4-pack)</td>\n",
       "      <td>1</td>\n",
       "      <td>2.99</td>\n",
       "      <td>2019-01-26 23:31:00</td>\n",
       "      <td>446 Madison St, Los Angeles, CA 90001</td>\n",
       "      <td>2.99</td>\n",
       "      <td>1</td>\n",
       "      <td>Jan</td>\n",
       "    </tr>\n",
       "  </tbody>\n",
       "</table>\n",
       "</div>"
      ],
      "text/plain": [
       "      Order ID                   Product  Quantity Ordered  Price Each  \\\n",
       "61134   143879      USB-C Charging Cable                 1       11.95   \n",
       "62887   145550  Apple Airpods Headphones                 1      150.00   \n",
       "62886   145549  Apple Airpods Headphones                 1      150.00   \n",
       "62885   145548                    iPhone                 1      700.00   \n",
       "62884   145547    AAA Batteries (4-pack)                 1        2.99   \n",
       "\n",
       "               Order Date                       Purchase Address   Sales  \\\n",
       "61134 2019-01-28 12:11:00  665 Adams St, San Francisco, CA 94016   11.95   \n",
       "62887 2019-01-30 18:53:00        505 North St, Seattle, WA 98101  150.00   \n",
       "62886 2019-01-02 09:45:00    644 1st St, San Francisco, CA 94016  150.00   \n",
       "62885 2019-01-04 08:21:00           695 2nd St, Austin, TX 73301  700.00   \n",
       "62884 2019-01-26 23:31:00  446 Madison St, Los Angeles, CA 90001    2.99   \n",
       "\n",
       "       month_no Month  \n",
       "61134         1   Jan  \n",
       "62887         1   Jan  \n",
       "62886         1   Jan  \n",
       "62885         1   Jan  \n",
       "62884         1   Jan  "
      ]
     },
     "execution_count": 29,
     "metadata": {},
     "output_type": "execute_result"
    }
   ],
   "source": [
    "main_df = main_df.sort_values(by='month_no')\n",
    "main_df.head()"
   ]
  },
  {
   "cell_type": "markdown",
   "id": "ffa843cf",
   "metadata": {},
   "source": [
    "### Making Datasets Ready for `Bar Graph`"
   ]
  },
  {
   "cell_type": "code",
   "execution_count": 30,
   "id": "846f1978",
   "metadata": {},
   "outputs": [
    {
     "data": {
      "text/plain": [
       "0     Jan\n",
       "1     Feb\n",
       "2     Mar\n",
       "3     Apr\n",
       "4     May\n",
       "5     Jun\n",
       "6     Jul\n",
       "7     Aug\n",
       "8     Sep\n",
       "9     Oct\n",
       "10    Nov\n",
       "11    Dec\n",
       "Name: Month, dtype: object"
      ]
     },
     "execution_count": 30,
     "metadata": {},
     "output_type": "execute_result"
    }
   ],
   "source": [
    "# Creating monthly_sales dataframe for Ploting...\n",
    "\n",
    "monthly_sales = main_df.groupby('Month', sort=False).sum() # sort=False for not arrranging month in Alphabetical Order.\n",
    "monthly_sales.reset_index(inplace=True)\n",
    "monthly_sales['Month']"
   ]
  },
  {
   "cell_type": "code",
   "execution_count": 31,
   "id": "f653367e",
   "metadata": {},
   "outputs": [
    {
     "data": {
      "image/png": "[encoded data removed]",
      "text/plain": [
       "<Figure size 640x480 with 1 Axes>"
      ]
     },
     "metadata": {},
     "output_type": "display_data"
    }
   ],
   "source": [
    "plt.bar(monthly_sales['Month'], monthly_sales['Sales']);"
   ]
  },
  {
   "cell_type": "markdown",
   "id": "b400aeec",
   "metadata": {},
   "source": [
    "le6 is standard scientific notion, and here it indicates an overall scale factor for the y-axis. That is, if there's a 2 on the y-axis and a 1e6 at the top, the value at 2 actually indicates 2*1e6 = 2e6 = 2 * 10^6 = 2,000,000."
   ]
  },
  {
   "cell_type": "markdown",
   "id": "75c373d9",
   "metadata": {},
   "source": [
    "### `Bar Graph of Monthwise Sales of Year 2019`\n",
    "\n",
    "Styling above graph for Clear Visualization"
   ]
  },
  {
   "cell_type": "code",
   "execution_count": 32,
   "id": "d34a3ee3",
   "metadata": {},
   "outputs": [
    {
     "data": {
      "image/png": "[encoded data removed]",
      "text/plain": [
       "<Figure size 640x480 with 1 Axes>"
      ]
     },
     "metadata": {},
     "output_type": "display_data"
    }
   ],
   "source": [
    "plt.bar(monthly_sales['Month'], monthly_sales['Sales'], color='orange')\n",
    "labels, location = plt.yticks()\n",
    "plt.yticks(labels, ((labels/1000000).astype(int))) # Scalling in Million USD\n",
    "plt.ylabel('Sales in Million USD')\n",
    "plt.xlabel('Month of Year 2019')\n",
    "plt.title('Monthwise Sales of Year 2019').set_color('purple')"
   ]
  },
  {
   "cell_type": "markdown",
   "id": "304a086f",
   "metadata": {},
   "source": [
    "In the month of December of year 2019, the maximum sales occurred, may be because of Holiday and Christmas in December and in the month of Jan, the minimum sales occurred."
   ]
  },
  {
   "cell_type": "code",
   "execution_count": 33,
   "id": "382deca2",
   "metadata": {},
   "outputs": [
    {
     "data": {
      "text/html": [
       "<div>\n",
       "<style scoped>\n",
       "    .dataframe tbody tr th:only-of-type {\n",
       "        vertical-align: middle;\n",
       "    }\n",
       "\n",
       "    .dataframe tbody tr th {\n",
       "        vertical-align: top;\n",
       "    }\n",
       "\n",
       "    .dataframe thead th {\n",
       "        text-align: right;\n",
       "    }\n",
       "</style>\n",
       "<table border=\"1\" class=\"dataframe\">\n",
       "  <thead>\n",
       "    <tr style=\"text-align: right;\">\n",
       "      <th></th>\n",
       "      <th>Month</th>\n",
       "      <th>Quantity Ordered</th>\n",
       "      <th>Price Each</th>\n",
       "      <th>Sales</th>\n",
       "      <th>month_no</th>\n",
       "    </tr>\n",
       "  </thead>\n",
       "  <tbody>\n",
       "    <tr>\n",
       "      <th>0</th>\n",
       "      <td>Jan</td>\n",
       "      <td>10893</td>\n",
       "      <td>1810924.81</td>\n",
       "      <td>1821413.16</td>\n",
       "      <td>9699</td>\n",
       "    </tr>\n",
       "    <tr>\n",
       "      <th>1</th>\n",
       "      <td>Feb</td>\n",
       "      <td>13431</td>\n",
       "      <td>2186940.38</td>\n",
       "      <td>2200078.08</td>\n",
       "      <td>23914</td>\n",
       "    </tr>\n",
       "    <tr>\n",
       "      <th>2</th>\n",
       "      <td>Mar</td>\n",
       "      <td>16979</td>\n",
       "      <td>2789084.64</td>\n",
       "      <td>2804973.35</td>\n",
       "      <td>45384</td>\n",
       "    </tr>\n",
       "    <tr>\n",
       "      <th>3</th>\n",
       "      <td>Apr</td>\n",
       "      <td>20536</td>\n",
       "      <td>3366218.76</td>\n",
       "      <td>3389217.98</td>\n",
       "      <td>73028</td>\n",
       "    </tr>\n",
       "    <tr>\n",
       "      <th>4</th>\n",
       "      <td>May</td>\n",
       "      <td>18653</td>\n",
       "      <td>3133134.61</td>\n",
       "      <td>3150616.23</td>\n",
       "      <td>82760</td>\n",
       "    </tr>\n",
       "  </tbody>\n",
       "</table>\n",
       "</div>"
      ],
      "text/plain": [
       "  Month  Quantity Ordered  Price Each       Sales  month_no\n",
       "0   Jan             10893  1810924.81  1821413.16      9699\n",
       "1   Feb             13431  2186940.38  2200078.08     23914\n",
       "2   Mar             16979  2789084.64  2804973.35     45384\n",
       "3   Apr             20536  3366218.76  3389217.98     73028\n",
       "4   May             18653  3133134.61  3150616.23     82760"
      ]
     },
     "execution_count": 33,
     "metadata": {},
     "output_type": "execute_result"
    }
   ],
   "source": [
    "monthly_sales.head()"
   ]
  },
  {
   "cell_type": "code",
   "execution_count": 34,
   "id": "02b86bd2",
   "metadata": {},
   "outputs": [
    {
     "data": {
      "text/plain": [
       "Month                object\n",
       "Quantity Ordered      int64\n",
       "Price Each          float64\n",
       "Sales               float64\n",
       "month_no              int64\n",
       "dtype: object"
      ]
     },
     "execution_count": 34,
     "metadata": {},
     "output_type": "execute_result"
    }
   ],
   "source": [
    "monthly_sales.dtypes"
   ]
  },
  {
   "cell_type": "markdown",
   "id": "dc1c7327",
   "metadata": {},
   "source": [
    "### `Horizontal Bar Graph using Seaborn`"
   ]
  },
  {
   "cell_type": "code",
   "execution_count": 35,
   "id": "9a2d9c59",
   "metadata": {},
   "outputs": [
    {
     "data": {
      "image/png": "[encoded data removed]",
      "text/plain": [
       "<Figure size 640x480 with 1 Axes>"
      ]
     },
     "metadata": {},
     "output_type": "display_data"
    }
   ],
   "source": [
    "ax = sns.barplot(x=monthly_sales['Sales'],\n",
    "            y=monthly_sales['Month'])\n",
    "ax.set_yticklabels(labels=list(monthly_sales['Month']) , rotation=0)\n",
    "plt.ylabel('Month of Year 2019')\n",
    "plt.xlabel('Sales in million USD')\n",
    "plt.title('Monthwise Sales of Year 2019').set_color('purple')\n",
    "labels, location = plt.xticks()\n",
    "plt.xticks(labels, (labels/1000000).astype(int));"
   ]
  },
  {
   "cell_type": "markdown",
   "id": "f5bb15a9",
   "metadata": {},
   "source": [
    "### Displaying Top 3 Months with Maximum and Minimum Sales."
   ]
  },
  {
   "cell_type": "code",
   "execution_count": 36,
   "id": "d0071558",
   "metadata": {},
   "outputs": [
    {
     "name": "stdout",
     "output_type": "stream",
     "text": [
      "Top 3 Months with Maximum Sales\n",
      "\n",
      "            Sales\n",
      "Month            \n",
      "Dec    4608295.70\n",
      "Oct    3734777.86\n",
      "Apr    3389217.98\n",
      "\n",
      "\n",
      "Top 3 Months with Minimum Sales\n",
      "\n",
      "            Sales\n",
      "Month            \n",
      "Jan    1821413.16\n",
      "Sep    2094465.69\n",
      "Feb    2200078.08\n"
     ]
    }
   ],
   "source": [
    "top_3_months = monthly_sales[['Month', 'Sales']].sort_values(by='Sales', ascending=False)[:3].set_index('Month')\n",
    "print(f\"Top 3 Months with Maximum Sales\\n\\n{top_3_months}\\n\\n\")\n",
    "bottom_3_months = monthly_sales[['Month', 'Sales']].sort_values(by='Sales')[:3].set_index('Month')\n",
    "print(f\"Top 3 Months with Minimum Sales\\n\\n{bottom_3_months}\")"
   ]
  },
  {
   "cell_type": "markdown",
   "id": "035543c6",
   "metadata": {},
   "source": [
    "`December` was the best month of Sales in 2019 with Sales of $4,608,295.70.\n",
    "\n",
    "`January` was the wrost month of Sales in 2019 with Sales of $1,821,413.16"
   ]
  },
  {
   "cell_type": "markdown",
   "id": "af559840",
   "metadata": {},
   "source": [
    "## II) Top 3 Cities with Maximum  and Minimum Sales in year 2019"
   ]
  },
  {
   "cell_type": "code",
   "execution_count": 37,
   "id": "86821de1",
   "metadata": {},
   "outputs": [
    {
     "data": {
      "text/html": [
       "<div>\n",
       "<style scoped>\n",
       "    .dataframe tbody tr th:only-of-type {\n",
       "        vertical-align: middle;\n",
       "    }\n",
       "\n",
       "    .dataframe tbody tr th {\n",
       "        vertical-align: top;\n",
       "    }\n",
       "\n",
       "    .dataframe thead th {\n",
       "        text-align: right;\n",
       "    }\n",
       "</style>\n",
       "<table border=\"1\" class=\"dataframe\">\n",
       "  <thead>\n",
       "    <tr style=\"text-align: right;\">\n",
       "      <th></th>\n",
       "      <th>Order ID</th>\n",
       "      <th>Product</th>\n",
       "      <th>Quantity Ordered</th>\n",
       "      <th>Price Each</th>\n",
       "      <th>Order Date</th>\n",
       "      <th>Purchase Address</th>\n",
       "      <th>Sales</th>\n",
       "      <th>month_no</th>\n",
       "      <th>Month</th>\n",
       "    </tr>\n",
       "  </thead>\n",
       "  <tbody>\n",
       "    <tr>\n",
       "      <th>61134</th>\n",
       "      <td>143879</td>\n",
       "      <td>USB-C Charging Cable</td>\n",
       "      <td>1</td>\n",
       "      <td>11.95</td>\n",
       "      <td>2019-01-28 12:11:00</td>\n",
       "      <td>665 Adams St, San Francisco, CA 94016</td>\n",
       "      <td>11.95</td>\n",
       "      <td>1</td>\n",
       "      <td>Jan</td>\n",
       "    </tr>\n",
       "    <tr>\n",
       "      <th>62887</th>\n",
       "      <td>145550</td>\n",
       "      <td>Apple Airpods Headphones</td>\n",
       "      <td>1</td>\n",
       "      <td>150.00</td>\n",
       "      <td>2019-01-30 18:53:00</td>\n",
       "      <td>505 North St, Seattle, WA 98101</td>\n",
       "      <td>150.00</td>\n",
       "      <td>1</td>\n",
       "      <td>Jan</td>\n",
       "    </tr>\n",
       "    <tr>\n",
       "      <th>62886</th>\n",
       "      <td>145549</td>\n",
       "      <td>Apple Airpods Headphones</td>\n",
       "      <td>1</td>\n",
       "      <td>150.00</td>\n",
       "      <td>2019-01-02 09:45:00</td>\n",
       "      <td>644 1st St, San Francisco, CA 94016</td>\n",
       "      <td>150.00</td>\n",
       "      <td>1</td>\n",
       "      <td>Jan</td>\n",
       "    </tr>\n",
       "    <tr>\n",
       "      <th>62885</th>\n",
       "      <td>145548</td>\n",
       "      <td>iPhone</td>\n",
       "      <td>1</td>\n",
       "      <td>700.00</td>\n",
       "      <td>2019-01-04 08:21:00</td>\n",
       "      <td>695 2nd St, Austin, TX 73301</td>\n",
       "      <td>700.00</td>\n",
       "      <td>1</td>\n",
       "      <td>Jan</td>\n",
       "    </tr>\n",
       "    <tr>\n",
       "      <th>62884</th>\n",
       "      <td>145547</td>\n",
       "      <td>AAA Batteries (4-pack)</td>\n",
       "      <td>1</td>\n",
       "      <td>2.99</td>\n",
       "      <td>2019-01-26 23:31:00</td>\n",
       "      <td>446 Madison St, Los Angeles, CA 90001</td>\n",
       "      <td>2.99</td>\n",
       "      <td>1</td>\n",
       "      <td>Jan</td>\n",
       "    </tr>\n",
       "  </tbody>\n",
       "</table>\n",
       "</div>"
      ],
      "text/plain": [
       "      Order ID                   Product  Quantity Ordered  Price Each  \\\n",
       "61134   143879      USB-C Charging Cable                 1       11.95   \n",
       "62887   145550  Apple Airpods Headphones                 1      150.00   \n",
       "62886   145549  Apple Airpods Headphones                 1      150.00   \n",
       "62885   145548                    iPhone                 1      700.00   \n",
       "62884   145547    AAA Batteries (4-pack)                 1        2.99   \n",
       "\n",
       "               Order Date                       Purchase Address   Sales  \\\n",
       "61134 2019-01-28 12:11:00  665 Adams St, San Francisco, CA 94016   11.95   \n",
       "62887 2019-01-30 18:53:00        505 North St, Seattle, WA 98101  150.00   \n",
       "62886 2019-01-02 09:45:00    644 1st St, San Francisco, CA 94016  150.00   \n",
       "62885 2019-01-04 08:21:00           695 2nd St, Austin, TX 73301  700.00   \n",
       "62884 2019-01-26 23:31:00  446 Madison St, Los Angeles, CA 90001    2.99   \n",
       "\n",
       "       month_no Month  \n",
       "61134         1   Jan  \n",
       "62887         1   Jan  \n",
       "62886         1   Jan  \n",
       "62885         1   Jan  \n",
       "62884         1   Jan  "
      ]
     },
     "execution_count": 37,
     "metadata": {},
     "output_type": "execute_result"
    }
   ],
   "source": [
    "main_df.head()"
   ]
  },
  {
   "cell_type": "markdown",
   "id": "d3cd5353",
   "metadata": {},
   "source": [
    "   ###   Creating & Adding `City` attribute with values as `city_name(Abbreviated_State_name)`\n"
   ]
  },
  {
   "cell_type": "code",
   "execution_count": 38,
   "id": "f6be436f",
   "metadata": {},
   "outputs": [],
   "source": [
    "def get_city_name(address):\n",
    "    return address.split(',')[1]\n",
    "\n",
    "def get_Abbreviated_state_name(address):\n",
    "    return address.split(',')[2].split(' ')[1]"
   ]
  },
  {
   "cell_type": "markdown",
   "id": "1fad7cfc",
   "metadata": {},
   "source": [
    "## NOTE:\n",
    "\n",
    "In our datasets, there are 2 cities named exactly the same but of different States. Example: Portland city is in two state of USA(OR: , ME:) So, we should also grab the state name along with city name for making City attribute Distinct."
   ]
  },
  {
   "cell_type": "code",
   "execution_count": 39,
   "id": "baaeb9d4",
   "metadata": {},
   "outputs": [
    {
     "data": {
      "text/html": [
       "<div>\n",
       "<style scoped>\n",
       "    .dataframe tbody tr th:only-of-type {\n",
       "        vertical-align: middle;\n",
       "    }\n",
       "\n",
       "    .dataframe tbody tr th {\n",
       "        vertical-align: top;\n",
       "    }\n",
       "\n",
       "    .dataframe thead th {\n",
       "        text-align: right;\n",
       "    }\n",
       "</style>\n",
       "<table border=\"1\" class=\"dataframe\">\n",
       "  <thead>\n",
       "    <tr style=\"text-align: right;\">\n",
       "      <th></th>\n",
       "      <th>Order ID</th>\n",
       "      <th>Product</th>\n",
       "      <th>Quantity Ordered</th>\n",
       "      <th>Price Each</th>\n",
       "      <th>Order Date</th>\n",
       "      <th>Purchase Address</th>\n",
       "      <th>Sales</th>\n",
       "      <th>month_no</th>\n",
       "      <th>Month</th>\n",
       "      <th>City</th>\n",
       "      <th>State</th>\n",
       "    </tr>\n",
       "  </thead>\n",
       "  <tbody>\n",
       "    <tr>\n",
       "      <th>61134</th>\n",
       "      <td>143879</td>\n",
       "      <td>USB-C Charging Cable</td>\n",
       "      <td>1</td>\n",
       "      <td>11.95</td>\n",
       "      <td>2019-01-28 12:11:00</td>\n",
       "      <td>665 Adams St, San Francisco, CA 94016</td>\n",
       "      <td>11.95</td>\n",
       "      <td>1</td>\n",
       "      <td>Jan</td>\n",
       "      <td>San Francisco</td>\n",
       "      <td>CA</td>\n",
       "    </tr>\n",
       "    <tr>\n",
       "      <th>62887</th>\n",
       "      <td>145550</td>\n",
       "      <td>Apple Airpods Headphones</td>\n",
       "      <td>1</td>\n",
       "      <td>150.00</td>\n",
       "      <td>2019-01-30 18:53:00</td>\n",
       "      <td>505 North St, Seattle, WA 98101</td>\n",
       "      <td>150.00</td>\n",
       "      <td>1</td>\n",
       "      <td>Jan</td>\n",
       "      <td>Seattle</td>\n",
       "      <td>WA</td>\n",
       "    </tr>\n",
       "    <tr>\n",
       "      <th>62886</th>\n",
       "      <td>145549</td>\n",
       "      <td>Apple Airpods Headphones</td>\n",
       "      <td>1</td>\n",
       "      <td>150.00</td>\n",
       "      <td>2019-01-02 09:45:00</td>\n",
       "      <td>644 1st St, San Francisco, CA 94016</td>\n",
       "      <td>150.00</td>\n",
       "      <td>1</td>\n",
       "      <td>Jan</td>\n",
       "      <td>San Francisco</td>\n",
       "      <td>CA</td>\n",
       "    </tr>\n",
       "    <tr>\n",
       "      <th>62885</th>\n",
       "      <td>145548</td>\n",
       "      <td>iPhone</td>\n",
       "      <td>1</td>\n",
       "      <td>700.00</td>\n",
       "      <td>2019-01-04 08:21:00</td>\n",
       "      <td>695 2nd St, Austin, TX 73301</td>\n",
       "      <td>700.00</td>\n",
       "      <td>1</td>\n",
       "      <td>Jan</td>\n",
       "      <td>Austin</td>\n",
       "      <td>TX</td>\n",
       "    </tr>\n",
       "    <tr>\n",
       "      <th>62884</th>\n",
       "      <td>145547</td>\n",
       "      <td>AAA Batteries (4-pack)</td>\n",
       "      <td>1</td>\n",
       "      <td>2.99</td>\n",
       "      <td>2019-01-26 23:31:00</td>\n",
       "      <td>446 Madison St, Los Angeles, CA 90001</td>\n",
       "      <td>2.99</td>\n",
       "      <td>1</td>\n",
       "      <td>Jan</td>\n",
       "      <td>Los Angeles</td>\n",
       "      <td>CA</td>\n",
       "    </tr>\n",
       "  </tbody>\n",
       "</table>\n",
       "</div>"
      ],
      "text/plain": [
       "      Order ID                   Product  Quantity Ordered  Price Each  \\\n",
       "61134   143879      USB-C Charging Cable                 1       11.95   \n",
       "62887   145550  Apple Airpods Headphones                 1      150.00   \n",
       "62886   145549  Apple Airpods Headphones                 1      150.00   \n",
       "62885   145548                    iPhone                 1      700.00   \n",
       "62884   145547    AAA Batteries (4-pack)                 1        2.99   \n",
       "\n",
       "               Order Date                       Purchase Address   Sales  \\\n",
       "61134 2019-01-28 12:11:00  665 Adams St, San Francisco, CA 94016   11.95   \n",
       "62887 2019-01-30 18:53:00        505 North St, Seattle, WA 98101  150.00   \n",
       "62886 2019-01-02 09:45:00    644 1st St, San Francisco, CA 94016  150.00   \n",
       "62885 2019-01-04 08:21:00           695 2nd St, Austin, TX 73301  700.00   \n",
       "62884 2019-01-26 23:31:00  446 Madison St, Los Angeles, CA 90001    2.99   \n",
       "\n",
       "       month_no Month            City State  \n",
       "61134         1   Jan   San Francisco    CA  \n",
       "62887         1   Jan         Seattle    WA  \n",
       "62886         1   Jan   San Francisco    CA  \n",
       "62885         1   Jan          Austin    TX  \n",
       "62884         1   Jan     Los Angeles    CA  "
      ]
     },
     "execution_count": 39,
     "metadata": {},
     "output_type": "execute_result"
    }
   ],
   "source": [
    "temp_df = main_df.copy()\n",
    "temp_df['City'] = main_df['Purchase Address'].apply(lambda x: get_city_name(x))\n",
    "temp_df['State'] = main_df['Purchase Address'].apply(lambda x: get_Abbreviated_state_name(x))\n",
    "temp_df.head()"
   ]
  },
  {
   "cell_type": "code",
   "execution_count": 40,
   "id": "bedea491",
   "metadata": {},
   "outputs": [
    {
     "data": {
      "text/plain": [
       "City       State\n",
       " Portland  OR       9998\n",
       "           ME       2451\n",
       "dtype: int64"
      ]
     },
     "execution_count": 40,
     "metadata": {},
     "output_type": "execute_result"
    }
   ],
   "source": [
    "temp_df[temp_df['City'] == ' Portland'][['City', 'State']].value_counts()"
   ]
  },
  {
   "cell_type": "markdown",
   "id": "37c41a20",
   "metadata": {},
   "source": [
    "Here, Portland city is in OR(Oregon) and ME(Maine) state of USA\n",
    "\n",
    "reference: https://www.scouting.org/resources/los/states/"
   ]
  },
  {
   "cell_type": "markdown",
   "id": "8fac216e",
   "metadata": {},
   "source": [
    "### Adding `City` attribute to our `main_df`"
   ]
  },
  {
   "cell_type": "code",
   "execution_count": 41,
   "id": "b4d7f4d7",
   "metadata": {},
   "outputs": [
    {
     "data": {
      "text/html": [
       "<div>\n",
       "<style scoped>\n",
       "    .dataframe tbody tr th:only-of-type {\n",
       "        vertical-align: middle;\n",
       "    }\n",
       "\n",
       "    .dataframe tbody tr th {\n",
       "        vertical-align: top;\n",
       "    }\n",
       "\n",
       "    .dataframe thead th {\n",
       "        text-align: right;\n",
       "    }\n",
       "</style>\n",
       "<table border=\"1\" class=\"dataframe\">\n",
       "  <thead>\n",
       "    <tr style=\"text-align: right;\">\n",
       "      <th></th>\n",
       "      <th>Order ID</th>\n",
       "      <th>Product</th>\n",
       "      <th>Quantity Ordered</th>\n",
       "      <th>Price Each</th>\n",
       "      <th>Order Date</th>\n",
       "      <th>Purchase Address</th>\n",
       "      <th>Sales</th>\n",
       "      <th>month_no</th>\n",
       "      <th>Month</th>\n",
       "      <th>City</th>\n",
       "    </tr>\n",
       "  </thead>\n",
       "  <tbody>\n",
       "    <tr>\n",
       "      <th>61134</th>\n",
       "      <td>143879</td>\n",
       "      <td>USB-C Charging Cable</td>\n",
       "      <td>1</td>\n",
       "      <td>11.95</td>\n",
       "      <td>2019-01-28 12:11:00</td>\n",
       "      <td>665 Adams St, San Francisco, CA 94016</td>\n",
       "      <td>11.95</td>\n",
       "      <td>1</td>\n",
       "      <td>Jan</td>\n",
       "      <td>San Francisco(CA)</td>\n",
       "    </tr>\n",
       "    <tr>\n",
       "      <th>62887</th>\n",
       "      <td>145550</td>\n",
       "      <td>Apple Airpods Headphones</td>\n",
       "      <td>1</td>\n",
       "      <td>150.00</td>\n",
       "      <td>2019-01-30 18:53:00</td>\n",
       "      <td>505 North St, Seattle, WA 98101</td>\n",
       "      <td>150.00</td>\n",
       "      <td>1</td>\n",
       "      <td>Jan</td>\n",
       "      <td>Seattle(WA)</td>\n",
       "    </tr>\n",
       "    <tr>\n",
       "      <th>62886</th>\n",
       "      <td>145549</td>\n",
       "      <td>Apple Airpods Headphones</td>\n",
       "      <td>1</td>\n",
       "      <td>150.00</td>\n",
       "      <td>2019-01-02 09:45:00</td>\n",
       "      <td>644 1st St, San Francisco, CA 94016</td>\n",
       "      <td>150.00</td>\n",
       "      <td>1</td>\n",
       "      <td>Jan</td>\n",
       "      <td>San Francisco(CA)</td>\n",
       "    </tr>\n",
       "    <tr>\n",
       "      <th>62885</th>\n",
       "      <td>145548</td>\n",
       "      <td>iPhone</td>\n",
       "      <td>1</td>\n",
       "      <td>700.00</td>\n",
       "      <td>2019-01-04 08:21:00</td>\n",
       "      <td>695 2nd St, Austin, TX 73301</td>\n",
       "      <td>700.00</td>\n",
       "      <td>1</td>\n",
       "      <td>Jan</td>\n",
       "      <td>Austin(TX)</td>\n",
       "    </tr>\n",
       "    <tr>\n",
       "      <th>62884</th>\n",
       "      <td>145547</td>\n",
       "      <td>AAA Batteries (4-pack)</td>\n",
       "      <td>1</td>\n",
       "      <td>2.99</td>\n",
       "      <td>2019-01-26 23:31:00</td>\n",
       "      <td>446 Madison St, Los Angeles, CA 90001</td>\n",
       "      <td>2.99</td>\n",
       "      <td>1</td>\n",
       "      <td>Jan</td>\n",
       "      <td>Los Angeles(CA)</td>\n",
       "    </tr>\n",
       "  </tbody>\n",
       "</table>\n",
       "</div>"
      ],
      "text/plain": [
       "      Order ID                   Product  Quantity Ordered  Price Each  \\\n",
       "61134   143879      USB-C Charging Cable                 1       11.95   \n",
       "62887   145550  Apple Airpods Headphones                 1      150.00   \n",
       "62886   145549  Apple Airpods Headphones                 1      150.00   \n",
       "62885   145548                    iPhone                 1      700.00   \n",
       "62884   145547    AAA Batteries (4-pack)                 1        2.99   \n",
       "\n",
       "               Order Date                       Purchase Address   Sales  \\\n",
       "61134 2019-01-28 12:11:00  665 Adams St, San Francisco, CA 94016   11.95   \n",
       "62887 2019-01-30 18:53:00        505 North St, Seattle, WA 98101  150.00   \n",
       "62886 2019-01-02 09:45:00    644 1st St, San Francisco, CA 94016  150.00   \n",
       "62885 2019-01-04 08:21:00           695 2nd St, Austin, TX 73301  700.00   \n",
       "62884 2019-01-26 23:31:00  446 Madison St, Los Angeles, CA 90001    2.99   \n",
       "\n",
       "       month_no Month                City  \n",
       "61134         1   Jan   San Francisco(CA)  \n",
       "62887         1   Jan         Seattle(WA)  \n",
       "62886         1   Jan   San Francisco(CA)  \n",
       "62885         1   Jan          Austin(TX)  \n",
       "62884         1   Jan     Los Angeles(CA)  "
      ]
     },
     "execution_count": 41,
     "metadata": {},
     "output_type": "execute_result"
    }
   ],
   "source": [
    "main_df['City'] = main_df['Purchase Address'].apply(lambda x: f\"{get_city_name(x)}({get_Abbreviated_state_name(x)})\")\n",
    "main_df.head()"
   ]
  },
  {
   "cell_type": "markdown",
   "id": "fbffaa10",
   "metadata": {},
   "source": [
    "### Group dataframe by `City` and extracting City-wise Sales"
   ]
  },
  {
   "cell_type": "code",
   "execution_count": 42,
   "id": "4d0abf02",
   "metadata": {},
   "outputs": [
    {
     "data": {
      "text/html": [
       "<div>\n",
       "<style scoped>\n",
       "    .dataframe tbody tr th:only-of-type {\n",
       "        vertical-align: middle;\n",
       "    }\n",
       "\n",
       "    .dataframe tbody tr th {\n",
       "        vertical-align: top;\n",
       "    }\n",
       "\n",
       "    .dataframe thead th {\n",
       "        text-align: right;\n",
       "    }\n",
       "</style>\n",
       "<table border=\"1\" class=\"dataframe\">\n",
       "  <thead>\n",
       "    <tr style=\"text-align: right;\">\n",
       "      <th></th>\n",
       "      <th>Quantity Ordered</th>\n",
       "      <th>Sales</th>\n",
       "    </tr>\n",
       "    <tr>\n",
       "      <th>City</th>\n",
       "      <th></th>\n",
       "      <th></th>\n",
       "    </tr>\n",
       "  </thead>\n",
       "  <tbody>\n",
       "    <tr>\n",
       "      <th>Atlanta(GA)</th>\n",
       "      <td>16584</td>\n",
       "      <td>2794199.07</td>\n",
       "    </tr>\n",
       "    <tr>\n",
       "      <th>Austin(TX)</th>\n",
       "      <td>11137</td>\n",
       "      <td>1818044.33</td>\n",
       "    </tr>\n",
       "    <tr>\n",
       "      <th>Boston(MA)</th>\n",
       "      <td>22494</td>\n",
       "      <td>3658627.65</td>\n",
       "    </tr>\n",
       "    <tr>\n",
       "      <th>Dallas(TX)</th>\n",
       "      <td>16707</td>\n",
       "      <td>2765373.96</td>\n",
       "    </tr>\n",
       "    <tr>\n",
       "      <th>Los Angeles(CA)</th>\n",
       "      <td>33247</td>\n",
       "      <td>5448304.28</td>\n",
       "    </tr>\n",
       "  </tbody>\n",
       "</table>\n",
       "</div>"
      ],
      "text/plain": [
       "                  Quantity Ordered       Sales\n",
       "City                                          \n",
       " Atlanta(GA)                 16584  2794199.07\n",
       " Austin(TX)                  11137  1818044.33\n",
       " Boston(MA)                  22494  3658627.65\n",
       " Dallas(TX)                  16707  2765373.96\n",
       " Los Angeles(CA)             33247  5448304.28"
      ]
     },
     "execution_count": 42,
     "metadata": {},
     "output_type": "execute_result"
    }
   ],
   "source": [
    "city_with_sales_df = main_df.groupby('City')[['Quantity Ordered', 'Sales']].sum()\n",
    "city_with_sales_df.head()"
   ]
  },
  {
   "cell_type": "code",
   "execution_count": 43,
   "id": "97df4e5b",
   "metadata": {},
   "outputs": [
    {
     "data": {
      "text/html": [
       "<div>\n",
       "<style scoped>\n",
       "    .dataframe tbody tr th:only-of-type {\n",
       "        vertical-align: middle;\n",
       "    }\n",
       "\n",
       "    .dataframe tbody tr th {\n",
       "        vertical-align: top;\n",
       "    }\n",
       "\n",
       "    .dataframe thead th {\n",
       "        text-align: right;\n",
       "    }\n",
       "</style>\n",
       "<table border=\"1\" class=\"dataframe\">\n",
       "  <thead>\n",
       "    <tr style=\"text-align: right;\">\n",
       "      <th></th>\n",
       "      <th>City</th>\n",
       "      <th>Quantity Ordered</th>\n",
       "      <th>Sales</th>\n",
       "    </tr>\n",
       "  </thead>\n",
       "  <tbody>\n",
       "    <tr>\n",
       "      <th>0</th>\n",
       "      <td>Atlanta(GA)</td>\n",
       "      <td>16584</td>\n",
       "      <td>2794199.07</td>\n",
       "    </tr>\n",
       "    <tr>\n",
       "      <th>1</th>\n",
       "      <td>Austin(TX)</td>\n",
       "      <td>11137</td>\n",
       "      <td>1818044.33</td>\n",
       "    </tr>\n",
       "    <tr>\n",
       "      <th>2</th>\n",
       "      <td>Boston(MA)</td>\n",
       "      <td>22494</td>\n",
       "      <td>3658627.65</td>\n",
       "    </tr>\n",
       "    <tr>\n",
       "      <th>3</th>\n",
       "      <td>Dallas(TX)</td>\n",
       "      <td>16707</td>\n",
       "      <td>2765373.96</td>\n",
       "    </tr>\n",
       "    <tr>\n",
       "      <th>4</th>\n",
       "      <td>Los Angeles(CA)</td>\n",
       "      <td>33247</td>\n",
       "      <td>5448304.28</td>\n",
       "    </tr>\n",
       "  </tbody>\n",
       "</table>\n",
       "</div>"
      ],
      "text/plain": [
       "               City  Quantity Ordered       Sales\n",
       "0       Atlanta(GA)             16584  2794199.07\n",
       "1        Austin(TX)             11137  1818044.33\n",
       "2        Boston(MA)             22494  3658627.65\n",
       "3        Dallas(TX)             16707  2765373.96\n",
       "4   Los Angeles(CA)             33247  5448304.28"
      ]
     },
     "execution_count": 43,
     "metadata": {},
     "output_type": "execute_result"
    }
   ],
   "source": [
    "city_with_sales_df.reset_index(inplace=True)\n",
    "city_with_sales_df.head()"
   ]
  },
  {
   "cell_type": "markdown",
   "id": "b8e75f0f",
   "metadata": {},
   "source": [
    "### ` Ploting Bar Graph between Cities with their Total Sales`"
   ]
  },
  {
   "cell_type": "code",
   "execution_count": 44,
   "id": "d946e18a",
   "metadata": {},
   "outputs": [
    {
     "data": {
      "text/html": [
       "<div>\n",
       "<style scoped>\n",
       "    .dataframe tbody tr th:only-of-type {\n",
       "        vertical-align: middle;\n",
       "    }\n",
       "\n",
       "    .dataframe tbody tr th {\n",
       "        vertical-align: top;\n",
       "    }\n",
       "\n",
       "    .dataframe thead th {\n",
       "        text-align: right;\n",
       "    }\n",
       "</style>\n",
       "<table border=\"1\" class=\"dataframe\">\n",
       "  <thead>\n",
       "    <tr style=\"text-align: right;\">\n",
       "      <th></th>\n",
       "      <th>City</th>\n",
       "      <th>Quantity Ordered</th>\n",
       "      <th>Sales</th>\n",
       "    </tr>\n",
       "  </thead>\n",
       "  <tbody>\n",
       "    <tr>\n",
       "      <th>6</th>\n",
       "      <td>Portland(ME)</td>\n",
       "      <td>2746</td>\n",
       "      <td>449321.38</td>\n",
       "    </tr>\n",
       "    <tr>\n",
       "      <th>1</th>\n",
       "      <td>Austin(TX)</td>\n",
       "      <td>11137</td>\n",
       "      <td>1818044.33</td>\n",
       "    </tr>\n",
       "    <tr>\n",
       "      <th>7</th>\n",
       "      <td>Portland(OR)</td>\n",
       "      <td>11291</td>\n",
       "      <td>1870010.56</td>\n",
       "    </tr>\n",
       "    <tr>\n",
       "      <th>9</th>\n",
       "      <td>Seattle(WA)</td>\n",
       "      <td>16534</td>\n",
       "      <td>2745046.02</td>\n",
       "    </tr>\n",
       "    <tr>\n",
       "      <th>3</th>\n",
       "      <td>Dallas(TX)</td>\n",
       "      <td>16707</td>\n",
       "      <td>2765373.96</td>\n",
       "    </tr>\n",
       "  </tbody>\n",
       "</table>\n",
       "</div>"
      ],
      "text/plain": [
       "            City  Quantity Ordered       Sales\n",
       "6   Portland(ME)              2746   449321.38\n",
       "1     Austin(TX)             11137  1818044.33\n",
       "7   Portland(OR)             11291  1870010.56\n",
       "9    Seattle(WA)             16534  2745046.02\n",
       "3     Dallas(TX)             16707  2765373.96"
      ]
     },
     "execution_count": 44,
     "metadata": {},
     "output_type": "execute_result"
    }
   ],
   "source": [
    "city_with_sales_df = city_with_sales_df.sort_values(by='Sales')\n",
    "city_with_sales_df.head()"
   ]
  },
  {
   "cell_type": "code",
   "execution_count": 45,
   "id": "a1d4df4b",
   "metadata": {},
   "outputs": [
    {
     "data": {
      "image/png": "[encoded data removed]",
      "text/plain": [
       "<Figure size 1500x1000 with 1 Axes>"
      ]
     },
     "metadata": {},
     "output_type": "display_data"
    }
   ],
   "source": [
    "fig = plt.figure()\n",
    "fig.set_figheight(10)\n",
    "fig.set_figwidth(15)\n",
    "ax = sns.barplot(x=city_with_sales_df['City'],\n",
    "                 y=city_with_sales_df['Sales'])\n",
    "ax.set_xticklabels(labels=list(city_with_sales_df['City']) , rotation=45, fontsize=12, fontweight='bold')\n",
    "plt.xlabel(xlabel='Cities of USA', fontsize=22, fontweight='bold').set_color('purple')\n",
    "plt.ylabel(ylabel='Sales in million USD', fontsize=22, fontweight='bold').set_color('purple')\n",
    "plt.title(label='City-wise Sales of Year 2019', fontsize=32, fontweight='bold').set_color('purple')\n",
    "labels, location = plt.yticks()\n",
    "plt.yticks(labels, (labels/1000000).astype(int))\n",
    "plt.tight_layout();"
   ]
  },
  {
   "cell_type": "markdown",
   "id": "be51e355",
   "metadata": {},
   "source": [
    "## ` Displaying Top/Bottom 3 Cities with their Total Sales.`"
   ]
  },
  {
   "cell_type": "code",
   "execution_count": 46,
   "id": "e63d9f69",
   "metadata": {},
   "outputs": [
    {
     "name": "stdout",
     "output_type": "stream",
     "text": [
      "Top 3 Cities with Maximum Sales\n",
      "\n",
      "                         Sales\n",
      "City                          \n",
      " San Francisco(CA)  8254743.55\n",
      " Los Angeles(CA)    5448304.28\n",
      " New York City(NY)  4661867.14\n",
      "\n",
      "\n",
      "Top 3 cities with Minimum Sales\n",
      "\n",
      "                    Sales\n",
      "City                     \n",
      " Portland(ME)   449321.38\n",
      " Austin(TX)    1818044.33\n",
      " Portland(OR)  1870010.56\n"
     ]
    }
   ],
   "source": [
    "top_3_cities = city_with_sales_df[['City', 'Sales']].sort_values(by='Sales', ascending=False)[:3].set_index('City')\n",
    "print(f\"Top 3 Cities with Maximum Sales\\n\\n{top_3_cities}\\n\\n\")\n",
    "bottom_3_cities = city_with_sales_df[['City', 'Sales']].sort_values(by='Sales')[:3].set_index('City')\n",
    "print(f\"Top 3 cities with Minimum Sales\\n\\n{bottom_3_cities}\")"
   ]
  },
  {
   "cell_type": "markdown",
   "id": "facddf50",
   "metadata": {},
   "source": [
    "`San Francisco(CA)` was the best City of Sales in 2019 with Sales of $ 8,254,743.55\n",
    "\n",
    "`Portland(ME)` was the wrost City of Sales in 2019 with Sales of $ 449,321.38"
   ]
  },
  {
   "cell_type": "markdown",
   "id": "fb7421b6",
   "metadata": {},
   "source": [
    "## III) Mining Best Time to Display Advertisements to Maximize the Sales."
   ]
  },
  {
   "cell_type": "markdown",
   "id": "aa3e695a",
   "metadata": {},
   "source": [
    "### Converting `Order Date` into `Py DateTime Datatype` & Appending `Hour` Attribute."
   ]
  },
  {
   "cell_type": "code",
   "execution_count": 47,
   "id": "20ce2f21",
   "metadata": {},
   "outputs": [
    {
     "data": {
      "text/html": [
       "<div>\n",
       "<style scoped>\n",
       "    .dataframe tbody tr th:only-of-type {\n",
       "        vertical-align: middle;\n",
       "    }\n",
       "\n",
       "    .dataframe tbody tr th {\n",
       "        vertical-align: top;\n",
       "    }\n",
       "\n",
       "    .dataframe thead th {\n",
       "        text-align: right;\n",
       "    }\n",
       "</style>\n",
       "<table border=\"1\" class=\"dataframe\">\n",
       "  <thead>\n",
       "    <tr style=\"text-align: right;\">\n",
       "      <th></th>\n",
       "      <th>Order ID</th>\n",
       "      <th>Product</th>\n",
       "      <th>Quantity Ordered</th>\n",
       "      <th>Price Each</th>\n",
       "      <th>Order Date</th>\n",
       "      <th>Purchase Address</th>\n",
       "      <th>Sales</th>\n",
       "      <th>month_no</th>\n",
       "      <th>Month</th>\n",
       "      <th>City</th>\n",
       "      <th>Order_Date_DTO</th>\n",
       "      <th>Hour</th>\n",
       "    </tr>\n",
       "  </thead>\n",
       "  <tbody>\n",
       "    <tr>\n",
       "      <th>61134</th>\n",
       "      <td>143879</td>\n",
       "      <td>USB-C Charging Cable</td>\n",
       "      <td>1</td>\n",
       "      <td>11.95</td>\n",
       "      <td>2019-01-28 12:11:00</td>\n",
       "      <td>665 Adams St, San Francisco, CA 94016</td>\n",
       "      <td>11.95</td>\n",
       "      <td>1</td>\n",
       "      <td>Jan</td>\n",
       "      <td>San Francisco(CA)</td>\n",
       "      <td>2019-01-28 12:11:00</td>\n",
       "      <td>12</td>\n",
       "    </tr>\n",
       "    <tr>\n",
       "      <th>62887</th>\n",
       "      <td>145550</td>\n",
       "      <td>Apple Airpods Headphones</td>\n",
       "      <td>1</td>\n",
       "      <td>150.00</td>\n",
       "      <td>2019-01-30 18:53:00</td>\n",
       "      <td>505 North St, Seattle, WA 98101</td>\n",
       "      <td>150.00</td>\n",
       "      <td>1</td>\n",
       "      <td>Jan</td>\n",
       "      <td>Seattle(WA)</td>\n",
       "      <td>2019-01-30 18:53:00</td>\n",
       "      <td>18</td>\n",
       "    </tr>\n",
       "    <tr>\n",
       "      <th>62886</th>\n",
       "      <td>145549</td>\n",
       "      <td>Apple Airpods Headphones</td>\n",
       "      <td>1</td>\n",
       "      <td>150.00</td>\n",
       "      <td>2019-01-02 09:45:00</td>\n",
       "      <td>644 1st St, San Francisco, CA 94016</td>\n",
       "      <td>150.00</td>\n",
       "      <td>1</td>\n",
       "      <td>Jan</td>\n",
       "      <td>San Francisco(CA)</td>\n",
       "      <td>2019-01-02 09:45:00</td>\n",
       "      <td>9</td>\n",
       "    </tr>\n",
       "    <tr>\n",
       "      <th>62885</th>\n",
       "      <td>145548</td>\n",
       "      <td>iPhone</td>\n",
       "      <td>1</td>\n",
       "      <td>700.00</td>\n",
       "      <td>2019-01-04 08:21:00</td>\n",
       "      <td>695 2nd St, Austin, TX 73301</td>\n",
       "      <td>700.00</td>\n",
       "      <td>1</td>\n",
       "      <td>Jan</td>\n",
       "      <td>Austin(TX)</td>\n",
       "      <td>2019-01-04 08:21:00</td>\n",
       "      <td>8</td>\n",
       "    </tr>\n",
       "    <tr>\n",
       "      <th>62884</th>\n",
       "      <td>145547</td>\n",
       "      <td>AAA Batteries (4-pack)</td>\n",
       "      <td>1</td>\n",
       "      <td>2.99</td>\n",
       "      <td>2019-01-26 23:31:00</td>\n",
       "      <td>446 Madison St, Los Angeles, CA 90001</td>\n",
       "      <td>2.99</td>\n",
       "      <td>1</td>\n",
       "      <td>Jan</td>\n",
       "      <td>Los Angeles(CA)</td>\n",
       "      <td>2019-01-26 23:31:00</td>\n",
       "      <td>23</td>\n",
       "    </tr>\n",
       "  </tbody>\n",
       "</table>\n",
       "</div>"
      ],
      "text/plain": [
       "      Order ID                   Product  Quantity Ordered  Price Each  \\\n",
       "61134   143879      USB-C Charging Cable                 1       11.95   \n",
       "62887   145550  Apple Airpods Headphones                 1      150.00   \n",
       "62886   145549  Apple Airpods Headphones                 1      150.00   \n",
       "62885   145548                    iPhone                 1      700.00   \n",
       "62884   145547    AAA Batteries (4-pack)                 1        2.99   \n",
       "\n",
       "               Order Date                       Purchase Address   Sales  \\\n",
       "61134 2019-01-28 12:11:00  665 Adams St, San Francisco, CA 94016   11.95   \n",
       "62887 2019-01-30 18:53:00        505 North St, Seattle, WA 98101  150.00   \n",
       "62886 2019-01-02 09:45:00    644 1st St, San Francisco, CA 94016  150.00   \n",
       "62885 2019-01-04 08:21:00           695 2nd St, Austin, TX 73301  700.00   \n",
       "62884 2019-01-26 23:31:00  446 Madison St, Los Angeles, CA 90001    2.99   \n",
       "\n",
       "       month_no Month                City      Order_Date_DTO  Hour  \n",
       "61134         1   Jan   San Francisco(CA) 2019-01-28 12:11:00    12  \n",
       "62887         1   Jan         Seattle(WA) 2019-01-30 18:53:00    18  \n",
       "62886         1   Jan   San Francisco(CA) 2019-01-02 09:45:00     9  \n",
       "62885         1   Jan          Austin(TX) 2019-01-04 08:21:00     8  \n",
       "62884         1   Jan     Los Angeles(CA) 2019-01-26 23:31:00    23  "
      ]
     },
     "execution_count": 47,
     "metadata": {},
     "output_type": "execute_result"
    }
   ],
   "source": [
    "main_df['Order_Date_DTO'] = pd.to_datetime(main_df['Order Date'])\n",
    "main_df['Hour'] = main_df['Order_Date_DTO'].dt.hour\n",
    "main_df.head()"
   ]
  },
  {
   "cell_type": "markdown",
   "id": "ef55c241",
   "metadata": {},
   "source": [
    "###  Grouping Datasets by `Hour` & Prepare a Dataframe for Ploting."
   ]
  },
  {
   "cell_type": "code",
   "execution_count": 48,
   "id": "91f288c9",
   "metadata": {},
   "outputs": [
    {
     "data": {
      "text/html": [
       "<div>\n",
       "<style scoped>\n",
       "    .dataframe tbody tr th:only-of-type {\n",
       "        vertical-align: middle;\n",
       "    }\n",
       "\n",
       "    .dataframe tbody tr th {\n",
       "        vertical-align: top;\n",
       "    }\n",
       "\n",
       "    .dataframe thead th {\n",
       "        text-align: right;\n",
       "    }\n",
       "</style>\n",
       "<table border=\"1\" class=\"dataframe\">\n",
       "  <thead>\n",
       "    <tr style=\"text-align: right;\">\n",
       "      <th></th>\n",
       "      <th>Hour</th>\n",
       "      <th>No. of Orders</th>\n",
       "    </tr>\n",
       "  </thead>\n",
       "  <tbody>\n",
       "    <tr>\n",
       "      <th>0</th>\n",
       "      <td>0</td>\n",
       "      <td>3902</td>\n",
       "    </tr>\n",
       "    <tr>\n",
       "      <th>1</th>\n",
       "      <td>1</td>\n",
       "      <td>2347</td>\n",
       "    </tr>\n",
       "    <tr>\n",
       "      <th>2</th>\n",
       "      <td>2</td>\n",
       "      <td>1242</td>\n",
       "    </tr>\n",
       "    <tr>\n",
       "      <th>3</th>\n",
       "      <td>3</td>\n",
       "      <td>830</td>\n",
       "    </tr>\n",
       "    <tr>\n",
       "      <th>4</th>\n",
       "      <td>4</td>\n",
       "      <td>852</td>\n",
       "    </tr>\n",
       "  </tbody>\n",
       "</table>\n",
       "</div>"
      ],
      "text/plain": [
       "   Hour  No. of Orders\n",
       "0     0           3902\n",
       "1     1           2347\n",
       "2     2           1242\n",
       "3     3            830\n",
       "4     4            852"
      ]
     },
     "execution_count": 48,
     "metadata": {},
     "output_type": "execute_result"
    }
   ],
   "source": [
    "order_hour_df = main_df.groupby('Hour')['Quantity Ordered'].count().reset_index(name='No. of Orders')\n",
    "order_hour_df.head()"
   ]
  },
  {
   "cell_type": "markdown",
   "id": "ea686c26",
   "metadata": {},
   "source": [
    "### Ploting `Line Plot` between Total no. of Orders made in Different Hour of the Day."
   ]
  },
  {
   "cell_type": "code",
   "execution_count": 49,
   "id": "c5dbe014",
   "metadata": {},
   "outputs": [
    {
     "data": {
      "image/png": "[encoded data removed]",
      "text/plain": [
       "<Figure size 800x600 with 1 Axes>"
      ]
     },
     "metadata": {},
     "output_type": "display_data"
    }
   ],
   "source": [
    "#Styling our plots and dimensions.\n",
    "\n",
    "plt.style.use('seaborn')\n",
    "fig = plt.figure()\n",
    "fig.set_figheight(6)\n",
    "fig.set_figwidth(8)\n",
    "\n",
    "# Ploting Line Plot.\n",
    "plt.plot(order_hour_df['Hour'], order_hour_df['No. of Orders'], color='orange') #plt.plot(x,y)\n",
    "\n",
    "# Adding labels and Styling to Labels\n",
    "\n",
    "plt.xlabel(xlabel='Ordered Hour Time', fontsize=14, fontweight='bold').set_color('purple')\n",
    "plt.ylabel(ylabel='Total Orders Made', fontsize=14, fontweight='bold').set_color('purple')\n",
    "plt.title(label='Total Orders Made in Daily Hour Time ', fontsize=22, fontweight='bold').set_color('purple')\n",
    "\n",
    "plt.xticks(range(0,25))\n",
    "plt.xlim([0,24])\n",
    "\n",
    "plt.axhline(order_hour_df['No. of Orders'].max(), linestyle='--', c='red')\n",
    "plt.axhline(order_hour_df['No. of Orders'].min(), linestyle='--', c='red');"
   ]
  },
  {
   "cell_type": "markdown",
   "id": "089e6d08",
   "metadata": {},
   "source": [
    "As you can see from the Figure , there are approximately 2 peaks at the data. They are 12 (12 PM) and 19 (7 PM). \n",
    "\n",
    "From this data, we can suggest to our bussiness partner to advertise their product right before 12 PM and/or 7 PM. It could be 11.30 AM and/or 6.30 PM."
   ]
  },
  {
   "cell_type": "markdown",
   "id": "073c875d",
   "metadata": {},
   "source": [
    "### `Remember: `\n",
    "\n",
    "This chart is the total orders of all cities. Thus, making a spesific chart for a specific city and planning accordingly for the advertisement will be far more productive for that city."
   ]
  },
  {
   "cell_type": "markdown",
   "id": "7315d476",
   "metadata": {},
   "source": [
    "### `Analyzing Citywise Orders & Making Specific Chart`\n",
    "\n",
    "It will be really better if we determine separately the `Best Advertisement Time` for Each City.  Here, we plot with city with maximum sales i.e. San Francisco(CA) and minimum sales i.e. Portland(ME)."
   ]
  },
  {
   "cell_type": "markdown",
   "id": "7e7596b0",
   "metadata": {},
   "source": [
    "#### Chart for `San Francisco(CA)` and ` Portland(ME)`"
   ]
  },
  {
   "cell_type": "code",
   "execution_count": 50,
   "id": "87ebe565",
   "metadata": {},
   "outputs": [
    {
     "data": {
      "text/plain": [
       "Hour  City            \n",
       "0      Atlanta(GA)        310\n",
       "       Austin(TX)         198\n",
       "       Boston(MA)         426\n",
       "       Dallas(TX)         283\n",
       "       Los Angeles(CA)    634\n",
       "Name: Quantity Ordered, dtype: int64"
      ]
     },
     "execution_count": 50,
     "metadata": {},
     "output_type": "execute_result"
    }
   ],
   "source": [
    "ads_city_hour_df = main_df.groupby(['Hour', 'City'])['Quantity Ordered'].count()\n",
    "ads_city_hour_df.head()"
   ]
  },
  {
   "cell_type": "code",
   "execution_count": 51,
   "id": "93e8a246",
   "metadata": {},
   "outputs": [
    {
     "data": {
      "text/html": [
       "<div>\n",
       "<style scoped>\n",
       "    .dataframe tbody tr th:only-of-type {\n",
       "        vertical-align: middle;\n",
       "    }\n",
       "\n",
       "    .dataframe tbody tr th {\n",
       "        vertical-align: top;\n",
       "    }\n",
       "\n",
       "    .dataframe thead th {\n",
       "        text-align: right;\n",
       "    }\n",
       "</style>\n",
       "<table border=\"1\" class=\"dataframe\">\n",
       "  <thead>\n",
       "    <tr style=\"text-align: right;\">\n",
       "      <th>City</th>\n",
       "      <th>Atlanta(GA)</th>\n",
       "      <th>Austin(TX)</th>\n",
       "      <th>Boston(MA)</th>\n",
       "      <th>Dallas(TX)</th>\n",
       "      <th>Los Angeles(CA)</th>\n",
       "      <th>New York City(NY)</th>\n",
       "      <th>Portland(ME)</th>\n",
       "      <th>Portland(OR)</th>\n",
       "      <th>San Francisco(CA)</th>\n",
       "      <th>Seattle(WA)</th>\n",
       "    </tr>\n",
       "    <tr>\n",
       "      <th>Hour</th>\n",
       "      <th></th>\n",
       "      <th></th>\n",
       "      <th></th>\n",
       "      <th></th>\n",
       "      <th></th>\n",
       "      <th></th>\n",
       "      <th></th>\n",
       "      <th></th>\n",
       "      <th></th>\n",
       "      <th></th>\n",
       "    </tr>\n",
       "  </thead>\n",
       "  <tbody>\n",
       "    <tr>\n",
       "      <th>0</th>\n",
       "      <td>310</td>\n",
       "      <td>198</td>\n",
       "      <td>426</td>\n",
       "      <td>283</td>\n",
       "      <td>634</td>\n",
       "      <td>557</td>\n",
       "      <td>48</td>\n",
       "      <td>223</td>\n",
       "      <td>937</td>\n",
       "      <td>286</td>\n",
       "    </tr>\n",
       "    <tr>\n",
       "      <th>1</th>\n",
       "      <td>213</td>\n",
       "      <td>128</td>\n",
       "      <td>220</td>\n",
       "      <td>168</td>\n",
       "      <td>397</td>\n",
       "      <td>328</td>\n",
       "      <td>34</td>\n",
       "      <td>123</td>\n",
       "      <td>569</td>\n",
       "      <td>167</td>\n",
       "    </tr>\n",
       "    <tr>\n",
       "      <th>2</th>\n",
       "      <td>112</td>\n",
       "      <td>70</td>\n",
       "      <td>119</td>\n",
       "      <td>92</td>\n",
       "      <td>197</td>\n",
       "      <td>164</td>\n",
       "      <td>14</td>\n",
       "      <td>71</td>\n",
       "      <td>315</td>\n",
       "      <td>88</td>\n",
       "    </tr>\n",
       "    <tr>\n",
       "      <th>3</th>\n",
       "      <td>57</td>\n",
       "      <td>54</td>\n",
       "      <td>80</td>\n",
       "      <td>69</td>\n",
       "      <td>116</td>\n",
       "      <td>100</td>\n",
       "      <td>11</td>\n",
       "      <td>47</td>\n",
       "      <td>219</td>\n",
       "      <td>77</td>\n",
       "    </tr>\n",
       "    <tr>\n",
       "      <th>4</th>\n",
       "      <td>80</td>\n",
       "      <td>42</td>\n",
       "      <td>90</td>\n",
       "      <td>55</td>\n",
       "      <td>124</td>\n",
       "      <td>106</td>\n",
       "      <td>11</td>\n",
       "      <td>51</td>\n",
       "      <td>217</td>\n",
       "      <td>76</td>\n",
       "    </tr>\n",
       "  </tbody>\n",
       "</table>\n",
       "</div>"
      ],
      "text/plain": [
       "City   Atlanta(GA)   Austin(TX)   Boston(MA)   Dallas(TX)   Los Angeles(CA)  \\\n",
       "Hour                                                                          \n",
       "0              310          198          426          283               634   \n",
       "1              213          128          220          168               397   \n",
       "2              112           70          119           92               197   \n",
       "3               57           54           80           69               116   \n",
       "4               80           42           90           55               124   \n",
       "\n",
       "City   New York City(NY)   Portland(ME)   Portland(OR)   San Francisco(CA)  \\\n",
       "Hour                                                                         \n",
       "0                    557             48            223                 937   \n",
       "1                    328             34            123                 569   \n",
       "2                    164             14             71                 315   \n",
       "3                    100             11             47                 219   \n",
       "4                    106             11             51                 217   \n",
       "\n",
       "City   Seattle(WA)  \n",
       "Hour                \n",
       "0              286  \n",
       "1              167  \n",
       "2               88  \n",
       "3               77  \n",
       "4               76  "
      ]
     },
     "execution_count": 51,
     "metadata": {},
     "output_type": "execute_result"
    }
   ],
   "source": [
    "ads_city_hour_df = ads_city_hour_df.unstack().fillna(0)\n",
    "ads_city_hour_df.head()"
   ]
  },
  {
   "cell_type": "markdown",
   "id": "84a05371",
   "metadata": {},
   "source": [
    "### `Note:`\n",
    "\n",
    "Here, city name consists of total no. of Orders made with Daily Hour Time(Row-wise).\n",
    "\n",
    "Total Orders Made = 310 in Atlanta(GA) for Hour= 0(12AM)"
   ]
  },
  {
   "cell_type": "code",
   "execution_count": 52,
   "id": "d81fd153",
   "metadata": {},
   "outputs": [
    {
     "data": {
      "text/plain": [
       "Index([' Atlanta(GA)', ' Austin(TX)', ' Boston(MA)', ' Dallas(TX)',\n",
       "       ' Los Angeles(CA)', ' New York City(NY)', ' Portland(ME)',\n",
       "       ' Portland(OR)', ' San Francisco(CA)', ' Seattle(WA)'],\n",
       "      dtype='object', name='City')"
      ]
     },
     "execution_count": 52,
     "metadata": {},
     "output_type": "execute_result"
    }
   ],
   "source": [
    "ads_city_hour_df.columns"
   ]
  },
  {
   "cell_type": "markdown",
   "id": "bfdb17d7",
   "metadata": {},
   "source": [
    "#### Extracting Columns of `San Francisco(CA)` and `Portland(ME)` & Making DF for Ploting."
   ]
  },
  {
   "cell_type": "code",
   "execution_count": 53,
   "id": "039c2105",
   "metadata": {},
   "outputs": [
    {
     "data": {
      "text/html": [
       "<div>\n",
       "<style scoped>\n",
       "    .dataframe tbody tr th:only-of-type {\n",
       "        vertical-align: middle;\n",
       "    }\n",
       "\n",
       "    .dataframe tbody tr th {\n",
       "        vertical-align: top;\n",
       "    }\n",
       "\n",
       "    .dataframe thead th {\n",
       "        text-align: right;\n",
       "    }\n",
       "</style>\n",
       "<table border=\"1\" class=\"dataframe\">\n",
       "  <thead>\n",
       "    <tr style=\"text-align: right;\">\n",
       "      <th></th>\n",
       "      <th>Hour</th>\n",
       "      <th>San Francisco(CA)</th>\n",
       "    </tr>\n",
       "  </thead>\n",
       "  <tbody>\n",
       "    <tr>\n",
       "      <th>0</th>\n",
       "      <td>0</td>\n",
       "      <td>937</td>\n",
       "    </tr>\n",
       "    <tr>\n",
       "      <th>1</th>\n",
       "      <td>1</td>\n",
       "      <td>569</td>\n",
       "    </tr>\n",
       "    <tr>\n",
       "      <th>2</th>\n",
       "      <td>2</td>\n",
       "      <td>315</td>\n",
       "    </tr>\n",
       "    <tr>\n",
       "      <th>3</th>\n",
       "      <td>3</td>\n",
       "      <td>219</td>\n",
       "    </tr>\n",
       "    <tr>\n",
       "      <th>4</th>\n",
       "      <td>4</td>\n",
       "      <td>217</td>\n",
       "    </tr>\n",
       "  </tbody>\n",
       "</table>\n",
       "</div>"
      ],
      "text/plain": [
       "   Hour   San Francisco(CA)\n",
       "0     0                 937\n",
       "1     1                 569\n",
       "2     2                 315\n",
       "3     3                 219\n",
       "4     4                 217"
      ]
     },
     "execution_count": 53,
     "metadata": {},
     "output_type": "execute_result"
    }
   ],
   "source": [
    "SanFranciscoCA_hour_df = pd.DataFrame(ads_city_hour_df[' San Francisco(CA)'])\n",
    "SanFranciscoCA_hour_df.reset_index(inplace=True)\n",
    "SanFranciscoCA_hour_df.head()"
   ]
  },
  {
   "cell_type": "code",
   "execution_count": 54,
   "id": "8b9c150a",
   "metadata": {},
   "outputs": [
    {
     "data": {
      "text/html": [
       "<div>\n",
       "<style scoped>\n",
       "    .dataframe tbody tr th:only-of-type {\n",
       "        vertical-align: middle;\n",
       "    }\n",
       "\n",
       "    .dataframe tbody tr th {\n",
       "        vertical-align: top;\n",
       "    }\n",
       "\n",
       "    .dataframe thead th {\n",
       "        text-align: right;\n",
       "    }\n",
       "</style>\n",
       "<table border=\"1\" class=\"dataframe\">\n",
       "  <thead>\n",
       "    <tr style=\"text-align: right;\">\n",
       "      <th></th>\n",
       "      <th>Hour</th>\n",
       "      <th>Portland(ME)</th>\n",
       "    </tr>\n",
       "  </thead>\n",
       "  <tbody>\n",
       "    <tr>\n",
       "      <th>0</th>\n",
       "      <td>0</td>\n",
       "      <td>48</td>\n",
       "    </tr>\n",
       "    <tr>\n",
       "      <th>1</th>\n",
       "      <td>1</td>\n",
       "      <td>34</td>\n",
       "    </tr>\n",
       "    <tr>\n",
       "      <th>2</th>\n",
       "      <td>2</td>\n",
       "      <td>14</td>\n",
       "    </tr>\n",
       "    <tr>\n",
       "      <th>3</th>\n",
       "      <td>3</td>\n",
       "      <td>11</td>\n",
       "    </tr>\n",
       "    <tr>\n",
       "      <th>4</th>\n",
       "      <td>4</td>\n",
       "      <td>11</td>\n",
       "    </tr>\n",
       "  </tbody>\n",
       "</table>\n",
       "</div>"
      ],
      "text/plain": [
       "   Hour   Portland(ME)\n",
       "0     0             48\n",
       "1     1             34\n",
       "2     2             14\n",
       "3     3             11\n",
       "4     4             11"
      ]
     },
     "execution_count": 54,
     "metadata": {},
     "output_type": "execute_result"
    }
   ],
   "source": [
    "PortlandME_hour_df = pd.DataFrame(ads_city_hour_df[' Portland(ME)'])\n",
    "PortlandME_hour_df.reset_index(inplace=True)\n",
    "PortlandME_hour_df.head()"
   ]
  },
  {
   "cell_type": "markdown",
   "id": "94c0728a",
   "metadata": {},
   "source": [
    "####  Ploting for `SanFranscisco(CA)`"
   ]
  },
  {
   "cell_type": "code",
   "execution_count": 55,
   "id": "005d7cb6",
   "metadata": {},
   "outputs": [
    {
     "data": {
      "image/png": "[encoded data removed]",
      "text/plain": [
       "<Figure size 800x600 with 1 Axes>"
      ]
     },
     "metadata": {},
     "output_type": "display_data"
    }
   ],
   "source": [
    "#Styling our plots and dimensions.\n",
    "\n",
    "plt.style.use('seaborn')\n",
    "fig = plt.figure()\n",
    "fig.set_figheight(6)\n",
    "fig.set_figwidth(8)\n",
    "\n",
    "# Ploting Line Plot.\n",
    "plt.plot(SanFranciscoCA_hour_df['Hour'], SanFranciscoCA_hour_df[' San Francisco(CA)'], color='orange') #plt.plot(x,y)\n",
    "\n",
    "# Adding labels and Styling to Labels\n",
    "\n",
    "plt.xlabel(xlabel='Ordered Hour Time', fontsize=12, fontweight='bold').set_color('purple')\n",
    "plt.ylabel(ylabel='Total Orders Made', fontsize=12, fontweight='bold').set_color('purple')\n",
    "plt.title(label='Total Orders Made in Daily Hour Time for San Franscisco ', fontsize=18, fontweight='bold').set_color('purple')\n",
    "\n",
    "plt.xticks(range(0,25))\n",
    "plt.xlim([0,24])\n",
    "\n",
    "plt.axhline(SanFranciscoCA_hour_df[' San Francisco(CA)'].max(), linestyle='--', c='red')\n",
    "plt.axhline(SanFranciscoCA_hour_df[' San Francisco(CA)'].min(), linestyle='--', c='red');"
   ]
  },
  {
   "cell_type": "markdown",
   "id": "7a6ab840",
   "metadata": {},
   "source": [
    "For `Sans Franscisco(CA)` ,\n",
    "\n",
    "Best Advertisement Time will be right before 12 A.M and/or 7 P.M.\n",
    "\n",
    "It could be 11:30 A.M and/or 6:30 PM."
   ]
  },
  {
   "cell_type": "markdown",
   "id": "0b932a8b",
   "metadata": {},
   "source": [
    "####  Ploting for `Portland(ME)`"
   ]
  },
  {
   "cell_type": "code",
   "execution_count": 56,
   "id": "824653a7",
   "metadata": {},
   "outputs": [
    {
     "data": {
      "image/png": "[encoded data removed]",
      "text/plain": [
       "<Figure size 800x600 with 1 Axes>"
      ]
     },
     "metadata": {},
     "output_type": "display_data"
    }
   ],
   "source": [
    "#Styling our plots and dimensions.\n",
    "\n",
    "plt.style.use('seaborn')\n",
    "fig = plt.figure()\n",
    "fig.set_figheight(6)\n",
    "fig.set_figwidth(8)\n",
    "\n",
    "# Ploting Line Plot.\n",
    "plt.plot(PortlandME_hour_df['Hour'], PortlandME_hour_df[' Portland(ME)'], color='orange') #plt.plot(x,y)\n",
    "\n",
    "# Adding labels and Styling to Labels\n",
    "\n",
    "plt.xlabel(xlabel='Ordered Hour Time', fontsize=12, fontweight='bold').set_color('purple')\n",
    "plt.ylabel(ylabel='Total Orders Made', fontsize=12, fontweight='bold').set_color('purple')\n",
    "plt.title(label='Total Orders Made in Daily Hour Time for Portland(ME)', fontsize=18, fontweight='bold').set_color('purple')\n",
    "\n",
    "plt.xticks(range(0,25))\n",
    "plt.xlim([0,24])\n",
    "\n",
    "plt.axhline(PortlandME_hour_df[' Portland(ME)'].max(), linestyle='--', c='red')\n",
    "plt.axhline(PortlandME_hour_df[' Portland(ME)'].min(), linestyle='--', c='red');"
   ]
  },
  {
   "cell_type": "markdown",
   "id": "a5b8dc23",
   "metadata": {},
   "source": [
    "For `Portland(ME)` ,\n",
    "\n",
    "Best Advertisement Time will be right before 11 A.M and/or 7 P.M.\n",
    "\n",
    "It could be 10:30 A.M and/or 6:30 PM."
   ]
  },
  {
   "cell_type": "markdown",
   "id": "e059e50c",
   "metadata": {},
   "source": [
    "##  IV) Top 5-Most Ordered /Sold Product "
   ]
  },
  {
   "cell_type": "code",
   "execution_count": 57,
   "id": "b5a71047",
   "metadata": {},
   "outputs": [
    {
     "data": {
      "text/html": [
       "<div>\n",
       "<style scoped>\n",
       "    .dataframe tbody tr th:only-of-type {\n",
       "        vertical-align: middle;\n",
       "    }\n",
       "\n",
       "    .dataframe tbody tr th {\n",
       "        vertical-align: top;\n",
       "    }\n",
       "\n",
       "    .dataframe thead th {\n",
       "        text-align: right;\n",
       "    }\n",
       "</style>\n",
       "<table border=\"1\" class=\"dataframe\">\n",
       "  <thead>\n",
       "    <tr style=\"text-align: right;\">\n",
       "      <th></th>\n",
       "      <th>Order ID</th>\n",
       "      <th>Product</th>\n",
       "      <th>Quantity Ordered</th>\n",
       "      <th>Price Each</th>\n",
       "      <th>Order Date</th>\n",
       "      <th>Purchase Address</th>\n",
       "      <th>Sales</th>\n",
       "      <th>month_no</th>\n",
       "      <th>Month</th>\n",
       "      <th>City</th>\n",
       "      <th>Order_Date_DTO</th>\n",
       "      <th>Hour</th>\n",
       "    </tr>\n",
       "  </thead>\n",
       "  <tbody>\n",
       "    <tr>\n",
       "      <th>61134</th>\n",
       "      <td>143879</td>\n",
       "      <td>USB-C Charging Cable</td>\n",
       "      <td>1</td>\n",
       "      <td>11.95</td>\n",
       "      <td>2019-01-28 12:11:00</td>\n",
       "      <td>665 Adams St, San Francisco, CA 94016</td>\n",
       "      <td>11.95</td>\n",
       "      <td>1</td>\n",
       "      <td>Jan</td>\n",
       "      <td>San Francisco(CA)</td>\n",
       "      <td>2019-01-28 12:11:00</td>\n",
       "      <td>12</td>\n",
       "    </tr>\n",
       "    <tr>\n",
       "      <th>62887</th>\n",
       "      <td>145550</td>\n",
       "      <td>Apple Airpods Headphones</td>\n",
       "      <td>1</td>\n",
       "      <td>150.00</td>\n",
       "      <td>2019-01-30 18:53:00</td>\n",
       "      <td>505 North St, Seattle, WA 98101</td>\n",
       "      <td>150.00</td>\n",
       "      <td>1</td>\n",
       "      <td>Jan</td>\n",
       "      <td>Seattle(WA)</td>\n",
       "      <td>2019-01-30 18:53:00</td>\n",
       "      <td>18</td>\n",
       "    </tr>\n",
       "    <tr>\n",
       "      <th>62886</th>\n",
       "      <td>145549</td>\n",
       "      <td>Apple Airpods Headphones</td>\n",
       "      <td>1</td>\n",
       "      <td>150.00</td>\n",
       "      <td>2019-01-02 09:45:00</td>\n",
       "      <td>644 1st St, San Francisco, CA 94016</td>\n",
       "      <td>150.00</td>\n",
       "      <td>1</td>\n",
       "      <td>Jan</td>\n",
       "      <td>San Francisco(CA)</td>\n",
       "      <td>2019-01-02 09:45:00</td>\n",
       "      <td>9</td>\n",
       "    </tr>\n",
       "    <tr>\n",
       "      <th>62885</th>\n",
       "      <td>145548</td>\n",
       "      <td>iPhone</td>\n",
       "      <td>1</td>\n",
       "      <td>700.00</td>\n",
       "      <td>2019-01-04 08:21:00</td>\n",
       "      <td>695 2nd St, Austin, TX 73301</td>\n",
       "      <td>700.00</td>\n",
       "      <td>1</td>\n",
       "      <td>Jan</td>\n",
       "      <td>Austin(TX)</td>\n",
       "      <td>2019-01-04 08:21:00</td>\n",
       "      <td>8</td>\n",
       "    </tr>\n",
       "    <tr>\n",
       "      <th>62884</th>\n",
       "      <td>145547</td>\n",
       "      <td>AAA Batteries (4-pack)</td>\n",
       "      <td>1</td>\n",
       "      <td>2.99</td>\n",
       "      <td>2019-01-26 23:31:00</td>\n",
       "      <td>446 Madison St, Los Angeles, CA 90001</td>\n",
       "      <td>2.99</td>\n",
       "      <td>1</td>\n",
       "      <td>Jan</td>\n",
       "      <td>Los Angeles(CA)</td>\n",
       "      <td>2019-01-26 23:31:00</td>\n",
       "      <td>23</td>\n",
       "    </tr>\n",
       "  </tbody>\n",
       "</table>\n",
       "</div>"
      ],
      "text/plain": [
       "      Order ID                   Product  Quantity Ordered  Price Each  \\\n",
       "61134   143879      USB-C Charging Cable                 1       11.95   \n",
       "62887   145550  Apple Airpods Headphones                 1      150.00   \n",
       "62886   145549  Apple Airpods Headphones                 1      150.00   \n",
       "62885   145548                    iPhone                 1      700.00   \n",
       "62884   145547    AAA Batteries (4-pack)                 1        2.99   \n",
       "\n",
       "               Order Date                       Purchase Address   Sales  \\\n",
       "61134 2019-01-28 12:11:00  665 Adams St, San Francisco, CA 94016   11.95   \n",
       "62887 2019-01-30 18:53:00        505 North St, Seattle, WA 98101  150.00   \n",
       "62886 2019-01-02 09:45:00    644 1st St, San Francisco, CA 94016  150.00   \n",
       "62885 2019-01-04 08:21:00           695 2nd St, Austin, TX 73301  700.00   \n",
       "62884 2019-01-26 23:31:00  446 Madison St, Los Angeles, CA 90001    2.99   \n",
       "\n",
       "       month_no Month                City      Order_Date_DTO  Hour  \n",
       "61134         1   Jan   San Francisco(CA) 2019-01-28 12:11:00    12  \n",
       "62887         1   Jan         Seattle(WA) 2019-01-30 18:53:00    18  \n",
       "62886         1   Jan   San Francisco(CA) 2019-01-02 09:45:00     9  \n",
       "62885         1   Jan          Austin(TX) 2019-01-04 08:21:00     8  \n",
       "62884         1   Jan     Los Angeles(CA) 2019-01-26 23:31:00    23  "
      ]
     },
     "execution_count": 57,
     "metadata": {},
     "output_type": "execute_result"
    }
   ],
   "source": [
    "main_df.head()"
   ]
  },
  {
   "cell_type": "markdown",
   "id": "f76d37bb",
   "metadata": {},
   "source": [
    "### Grouping datasets by `Product` & Summing Numeric Columns"
   ]
  },
  {
   "cell_type": "code",
   "execution_count": 58,
   "id": "29ceb6f0",
   "metadata": {},
   "outputs": [
    {
     "data": {
      "text/html": [
       "<div>\n",
       "<style scoped>\n",
       "    .dataframe tbody tr th:only-of-type {\n",
       "        vertical-align: middle;\n",
       "    }\n",
       "\n",
       "    .dataframe tbody tr th {\n",
       "        vertical-align: top;\n",
       "    }\n",
       "\n",
       "    .dataframe thead th {\n",
       "        text-align: right;\n",
       "    }\n",
       "</style>\n",
       "<table border=\"1\" class=\"dataframe\">\n",
       "  <thead>\n",
       "    <tr style=\"text-align: right;\">\n",
       "      <th></th>\n",
       "      <th>Product</th>\n",
       "      <th>Quantity Ordered</th>\n",
       "      <th>Price Each</th>\n",
       "      <th>Sales</th>\n",
       "      <th>month_no</th>\n",
       "      <th>Hour</th>\n",
       "    </tr>\n",
       "  </thead>\n",
       "  <tbody>\n",
       "    <tr>\n",
       "      <th>0</th>\n",
       "      <td>20in Monitor</td>\n",
       "      <td>4126</td>\n",
       "      <td>450739.02</td>\n",
       "      <td>453818.74</td>\n",
       "      <td>29319</td>\n",
       "      <td>58729</td>\n",
       "    </tr>\n",
       "    <tr>\n",
       "      <th>1</th>\n",
       "      <td>27in 4K Gaming Monitor</td>\n",
       "      <td>6239</td>\n",
       "      <td>2427687.75</td>\n",
       "      <td>2433147.61</td>\n",
       "      <td>44396</td>\n",
       "      <td>90841</td>\n",
       "    </tr>\n",
       "    <tr>\n",
       "      <th>2</th>\n",
       "      <td>27in FHD Monitor</td>\n",
       "      <td>7541</td>\n",
       "      <td>1124625.02</td>\n",
       "      <td>1131074.59</td>\n",
       "      <td>52484</td>\n",
       "      <td>107422</td>\n",
       "    </tr>\n",
       "    <tr>\n",
       "      <th>3</th>\n",
       "      <td>34in Ultrawide Monitor</td>\n",
       "      <td>6192</td>\n",
       "      <td>2346058.26</td>\n",
       "      <td>2352898.08</td>\n",
       "      <td>43258</td>\n",
       "      <td>88957</td>\n",
       "    </tr>\n",
       "    <tr>\n",
       "      <th>4</th>\n",
       "      <td>AA Batteries (4-pack)</td>\n",
       "      <td>27615</td>\n",
       "      <td>78942.72</td>\n",
       "      <td>106041.60</td>\n",
       "      <td>145423</td>\n",
       "      <td>298077</td>\n",
       "    </tr>\n",
       "  </tbody>\n",
       "</table>\n",
       "</div>"
      ],
      "text/plain": [
       "                  Product  Quantity Ordered  Price Each       Sales  month_no  \\\n",
       "0            20in Monitor              4126   450739.02   453818.74     29319   \n",
       "1  27in 4K Gaming Monitor              6239  2427687.75  2433147.61     44396   \n",
       "2        27in FHD Monitor              7541  1124625.02  1131074.59     52484   \n",
       "3  34in Ultrawide Monitor              6192  2346058.26  2352898.08     43258   \n",
       "4   AA Batteries (4-pack)             27615    78942.72   106041.60    145423   \n",
       "\n",
       "     Hour  \n",
       "0   58729  \n",
       "1   90841  \n",
       "2  107422  \n",
       "3   88957  \n",
       "4  298077  "
      ]
     },
     "execution_count": 58,
     "metadata": {},
     "output_type": "execute_result"
    }
   ],
   "source": [
    "product_df = main_df.groupby('Product').sum()\n",
    "product_df = product_df.reset_index()\n",
    "product_df.head()"
   ]
  },
  {
   "cell_type": "markdown",
   "id": "4493c697",
   "metadata": {},
   "source": [
    "### Ploting the Bar Graph."
   ]
  },
  {
   "cell_type": "code",
   "execution_count": 59,
   "id": "1425e8de",
   "metadata": {},
   "outputs": [
    {
     "data": {
      "image/png": "[encoded data removed]",
      "text/plain": [
       "<Figure size 800x400 with 1 Axes>"
      ]
     },
     "metadata": {},
     "output_type": "display_data"
    }
   ],
   "source": [
    "fig = plt.figure()\n",
    "fig.set_figheight(4)\n",
    "fig.set_figwidth(8)\n",
    "\n",
    "plt.bar(product_df['Product'], product_df['Quantity Ordered'])\n",
    "plt.xticks(ticks = list( product_df['Product']), rotation='vertical', fontsize=12, fontweight='bold')\n",
    "plt.xlabel(xlabel='Product Name', fontsize=16, fontweight='bold').set_color('purple')\n",
    "plt.ylabel(ylabel='Quantity Ordered', fontsize=16, fontweight='bold').set_color('purple')\n",
    "plt.title(label='Product Versus Quantity Ordered for whole dataset', fontsize=18, fontweight='bold').set_color('purple');"
   ]
  },
  {
   "cell_type": "markdown",
   "id": "a1669311",
   "metadata": {},
   "source": [
    "Most Ordered/Sold Product Name in 2019: `AAA Batteries(4-Pack)`"
   ]
  },
  {
   "cell_type": "markdown",
   "id": "2cc00124",
   "metadata": {},
   "source": [
    "### Displaying Top 5 Most Ordered Product."
   ]
  },
  {
   "cell_type": "code",
   "execution_count": 60,
   "id": "9942262e",
   "metadata": {},
   "outputs": [
    {
     "name": "stdout",
     "output_type": "stream",
     "text": [
      "Top 5 Most Ordered/Sold Products\n",
      "\n",
      "                          Quantity Ordered\n",
      "Product                                   \n",
      "AAA Batteries (4-pack)               30986\n",
      "AA Batteries (4-pack)                27615\n",
      "USB-C Charging Cable                 23931\n",
      "Lightning Charging Cable             23169\n",
      "Wired Headphones                     20524\n"
     ]
    }
   ],
   "source": [
    "top_5_product_df = product_df.sort_values(by='Quantity Ordered', ascending=False)[['Product', 'Quantity Ordered']][:5]\n",
    "print(f\"Top 5 Most Ordered/Sold Products\\n\\n{top_5_product_df.set_index('Product')}\")"
   ]
  },
  {
   "cell_type": "markdown",
   "id": "2f8c45c5",
   "metadata": {},
   "source": [
    "These Products are ordered most Frequently because they have low unit cost.  "
   ]
  },
  {
   "cell_type": "markdown",
   "id": "b679a77f",
   "metadata": {},
   "source": [
    "### Analyzing & Demonstrating Facts/Hypothesis behind Most Ordered/Sold Product."
   ]
  },
  {
   "cell_type": "code",
   "execution_count": 61,
   "id": "46f9a836",
   "metadata": {},
   "outputs": [
    {
     "data": {
      "text/html": [
       "<div>\n",
       "<style scoped>\n",
       "    .dataframe tbody tr th:only-of-type {\n",
       "        vertical-align: middle;\n",
       "    }\n",
       "\n",
       "    .dataframe tbody tr th {\n",
       "        vertical-align: top;\n",
       "    }\n",
       "\n",
       "    .dataframe thead th {\n",
       "        text-align: right;\n",
       "    }\n",
       "</style>\n",
       "<table border=\"1\" class=\"dataframe\">\n",
       "  <thead>\n",
       "    <tr style=\"text-align: right;\">\n",
       "      <th></th>\n",
       "      <th>Product</th>\n",
       "      <th>Unit Cost</th>\n",
       "    </tr>\n",
       "  </thead>\n",
       "  <tbody>\n",
       "    <tr>\n",
       "      <th>0</th>\n",
       "      <td>20in Monitor</td>\n",
       "      <td>109.99</td>\n",
       "    </tr>\n",
       "    <tr>\n",
       "      <th>1</th>\n",
       "      <td>27in 4K Gaming Monitor</td>\n",
       "      <td>389.99</td>\n",
       "    </tr>\n",
       "    <tr>\n",
       "      <th>2</th>\n",
       "      <td>27in FHD Monitor</td>\n",
       "      <td>149.99</td>\n",
       "    </tr>\n",
       "    <tr>\n",
       "      <th>3</th>\n",
       "      <td>34in Ultrawide Monitor</td>\n",
       "      <td>379.99</td>\n",
       "    </tr>\n",
       "    <tr>\n",
       "      <th>4</th>\n",
       "      <td>AA Batteries (4-pack)</td>\n",
       "      <td>3.84</td>\n",
       "    </tr>\n",
       "  </tbody>\n",
       "</table>\n",
       "</div>"
      ],
      "text/plain": [
       "                  Product  Unit Cost\n",
       "0            20in Monitor     109.99\n",
       "1  27in 4K Gaming Monitor     389.99\n",
       "2        27in FHD Monitor     149.99\n",
       "3  34in Ultrawide Monitor     379.99\n",
       "4   AA Batteries (4-pack)       3.84"
      ]
     },
     "execution_count": 61,
     "metadata": {},
     "output_type": "execute_result"
    }
   ],
   "source": [
    "unit_cost_df = main_df.groupby('Product').mean()['Price Each']\n",
    "unit_cost_df = unit_cost_df.reset_index(name='Unit Cost')\n",
    "unit_cost_df.head()"
   ]
  },
  {
   "cell_type": "code",
   "execution_count": 62,
   "id": "1d1eb27f",
   "metadata": {},
   "outputs": [
    {
     "name": "stderr",
     "output_type": "stream",
     "text": [
      "C:\\Users\\Abhishek Thapa\\AppData\\Local\\Temp\\ipykernel_5412\\625771362.py:11: UserWarning: FixedFormatter should only be used together with FixedLocator\n",
      "  ax1.set_xticklabels(labels=product_df['Product'], rotation='vertical', size=10)\n"
     ]
    },
    {
     "data": {
      "image/png": "[encoded data removed]",
      "text/plain": [
       "<Figure size 800x400 with 2 Axes>"
      ]
     },
     "metadata": {},
     "output_type": "display_data"
    }
   ],
   "source": [
    "plt.style.use('default')\n",
    "fig, ax1 = plt.subplots(figsize=(8, 4))\n",
    "ax2 = ax1.twinx()\n",
    "\n",
    "ax1.bar(product_df['Product'], product_df['Quantity Ordered'], color='lightblue')\n",
    "ax2.plot(unit_cost_df['Product'], unit_cost_df['Unit Cost'], color='green')\n",
    "\n",
    "ax1.set_xlabel('Product Name', color='purple', size=12)\n",
    "ax1.set_ylabel('Quantity Ordered', color='purple', size=12)\n",
    "ax2.set_ylabel('Unit Cost($)', color='purple')\n",
    "ax1.set_xticklabels(labels=product_df['Product'], rotation='vertical', size=10)\n",
    "plt.title(label='Product Versus Quantity Ordered vs Unit Cost for whole dataset', fontsize=16, fontweight='bold').set_color('purple');"
   ]
  },
  {
   "cell_type": "markdown",
   "id": "ac053389",
   "metadata": {},
   "source": [
    "### `Ignoring` Warnings importing `Warning` modules is not a good idea as we will ignore some informative warnings and way of handling them.\n",
    "\n",
    "#### Ignoring this warining for now as it doesn't create any impact for now.\n",
    "\n",
    "Let's analyze and demonstate our facts/hypothesis: `The most Ordered/Sold products have low price.`\n",
    "\n",
    "From the graph, we can see the Unit Cost of Top 5-Most Ordered/Sold Products such as: AAA Batteries, Charging Cables, Headphones is low. Thus, `our Hypthesis was True.`\n",
    "\n",
    "Also, even though the Unit Cost for Laptops are very high, they are ordered/sold more than some of low unit cost equipments than that of Lapops. This is because large number of people need laptops and ultimately, it has high demands."
   ]
  },
  {
   "cell_type": "markdown",
   "id": "088cfe50",
   "metadata": {},
   "source": [
    "## V) Market Basket Analysis- Apriori Algorithm & Association Rule Mining."
   ]
  },
  {
   "cell_type": "markdown",
   "id": "5090666c",
   "metadata": {},
   "source": [
    "`Market basket analysis` is a data mining technique used by retailers to increase sales by better understanding customer purchasing patterns.\n",
    "\n",
    "The `Apriori algorithm` is used for mining frequent itemsets and devising association rules from a transactional database. The parameters “support” and “confidence” are used. Support refers to items' frequency of occurrence; confidence is a conditional probability. Items in a transaction form an item set.\n",
    "\n",
    "`Association rule mining` is a rule-based machine learning method for discovering interesting relations between variables in large databases. It is intended to identify strong rules discovered in databases using some measures of interestingness.\n",
    "\n",
    "#### For more detailed, Learn from Videos and Vlogs. ( I've already studied about these in DataMining subject in my College)"
   ]
  },
  {
   "cell_type": "code",
   "execution_count": 63,
   "id": "d62409d1",
   "metadata": {},
   "outputs": [
    {
     "data": {
      "text/html": [
       "<div>\n",
       "<style scoped>\n",
       "    .dataframe tbody tr th:only-of-type {\n",
       "        vertical-align: middle;\n",
       "    }\n",
       "\n",
       "    .dataframe tbody tr th {\n",
       "        vertical-align: top;\n",
       "    }\n",
       "\n",
       "    .dataframe thead th {\n",
       "        text-align: right;\n",
       "    }\n",
       "</style>\n",
       "<table border=\"1\" class=\"dataframe\">\n",
       "  <thead>\n",
       "    <tr style=\"text-align: right;\">\n",
       "      <th></th>\n",
       "      <th>Order ID</th>\n",
       "      <th>Product</th>\n",
       "      <th>Quantity Ordered</th>\n",
       "      <th>Price Each</th>\n",
       "      <th>Order Date</th>\n",
       "      <th>Purchase Address</th>\n",
       "      <th>Sales</th>\n",
       "      <th>month_no</th>\n",
       "      <th>Month</th>\n",
       "      <th>City</th>\n",
       "      <th>Order_Date_DTO</th>\n",
       "      <th>Hour</th>\n",
       "    </tr>\n",
       "  </thead>\n",
       "  <tbody>\n",
       "    <tr>\n",
       "      <th>61134</th>\n",
       "      <td>143879</td>\n",
       "      <td>USB-C Charging Cable</td>\n",
       "      <td>1</td>\n",
       "      <td>11.95</td>\n",
       "      <td>2019-01-28 12:11:00</td>\n",
       "      <td>665 Adams St, San Francisco, CA 94016</td>\n",
       "      <td>11.95</td>\n",
       "      <td>1</td>\n",
       "      <td>Jan</td>\n",
       "      <td>San Francisco(CA)</td>\n",
       "      <td>2019-01-28 12:11:00</td>\n",
       "      <td>12</td>\n",
       "    </tr>\n",
       "    <tr>\n",
       "      <th>62887</th>\n",
       "      <td>145550</td>\n",
       "      <td>Apple Airpods Headphones</td>\n",
       "      <td>1</td>\n",
       "      <td>150.00</td>\n",
       "      <td>2019-01-30 18:53:00</td>\n",
       "      <td>505 North St, Seattle, WA 98101</td>\n",
       "      <td>150.00</td>\n",
       "      <td>1</td>\n",
       "      <td>Jan</td>\n",
       "      <td>Seattle(WA)</td>\n",
       "      <td>2019-01-30 18:53:00</td>\n",
       "      <td>18</td>\n",
       "    </tr>\n",
       "    <tr>\n",
       "      <th>62886</th>\n",
       "      <td>145549</td>\n",
       "      <td>Apple Airpods Headphones</td>\n",
       "      <td>1</td>\n",
       "      <td>150.00</td>\n",
       "      <td>2019-01-02 09:45:00</td>\n",
       "      <td>644 1st St, San Francisco, CA 94016</td>\n",
       "      <td>150.00</td>\n",
       "      <td>1</td>\n",
       "      <td>Jan</td>\n",
       "      <td>San Francisco(CA)</td>\n",
       "      <td>2019-01-02 09:45:00</td>\n",
       "      <td>9</td>\n",
       "    </tr>\n",
       "    <tr>\n",
       "      <th>62885</th>\n",
       "      <td>145548</td>\n",
       "      <td>iPhone</td>\n",
       "      <td>1</td>\n",
       "      <td>700.00</td>\n",
       "      <td>2019-01-04 08:21:00</td>\n",
       "      <td>695 2nd St, Austin, TX 73301</td>\n",
       "      <td>700.00</td>\n",
       "      <td>1</td>\n",
       "      <td>Jan</td>\n",
       "      <td>Austin(TX)</td>\n",
       "      <td>2019-01-04 08:21:00</td>\n",
       "      <td>8</td>\n",
       "    </tr>\n",
       "    <tr>\n",
       "      <th>62884</th>\n",
       "      <td>145547</td>\n",
       "      <td>AAA Batteries (4-pack)</td>\n",
       "      <td>1</td>\n",
       "      <td>2.99</td>\n",
       "      <td>2019-01-26 23:31:00</td>\n",
       "      <td>446 Madison St, Los Angeles, CA 90001</td>\n",
       "      <td>2.99</td>\n",
       "      <td>1</td>\n",
       "      <td>Jan</td>\n",
       "      <td>Los Angeles(CA)</td>\n",
       "      <td>2019-01-26 23:31:00</td>\n",
       "      <td>23</td>\n",
       "    </tr>\n",
       "  </tbody>\n",
       "</table>\n",
       "</div>"
      ],
      "text/plain": [
       "      Order ID                   Product  Quantity Ordered  Price Each  \\\n",
       "61134   143879      USB-C Charging Cable                 1       11.95   \n",
       "62887   145550  Apple Airpods Headphones                 1      150.00   \n",
       "62886   145549  Apple Airpods Headphones                 1      150.00   \n",
       "62885   145548                    iPhone                 1      700.00   \n",
       "62884   145547    AAA Batteries (4-pack)                 1        2.99   \n",
       "\n",
       "               Order Date                       Purchase Address   Sales  \\\n",
       "61134 2019-01-28 12:11:00  665 Adams St, San Francisco, CA 94016   11.95   \n",
       "62887 2019-01-30 18:53:00        505 North St, Seattle, WA 98101  150.00   \n",
       "62886 2019-01-02 09:45:00    644 1st St, San Francisco, CA 94016  150.00   \n",
       "62885 2019-01-04 08:21:00           695 2nd St, Austin, TX 73301  700.00   \n",
       "62884 2019-01-26 23:31:00  446 Madison St, Los Angeles, CA 90001    2.99   \n",
       "\n",
       "       month_no Month                City      Order_Date_DTO  Hour  \n",
       "61134         1   Jan   San Francisco(CA) 2019-01-28 12:11:00    12  \n",
       "62887         1   Jan         Seattle(WA) 2019-01-30 18:53:00    18  \n",
       "62886         1   Jan   San Francisco(CA) 2019-01-02 09:45:00     9  \n",
       "62885         1   Jan          Austin(TX) 2019-01-04 08:21:00     8  \n",
       "62884         1   Jan     Los Angeles(CA) 2019-01-26 23:31:00    23  "
      ]
     },
     "execution_count": 63,
     "metadata": {},
     "output_type": "execute_result"
    }
   ],
   "source": [
    "main_df.head()"
   ]
  },
  {
   "cell_type": "code",
   "execution_count": 64,
   "id": "06607c30",
   "metadata": {},
   "outputs": [
    {
     "data": {
      "text/plain": [
       "(185686, 12)"
      ]
     },
     "execution_count": 64,
     "metadata": {},
     "output_type": "execute_result"
    }
   ],
   "source": [
    "main_df.shape"
   ]
  },
  {
   "cell_type": "code",
   "execution_count": 65,
   "id": "5942cf9a",
   "metadata": {},
   "outputs": [
    {
     "data": {
      "text/plain": [
       "7249"
      ]
     },
     "execution_count": 65,
     "metadata": {},
     "output_type": "execute_result"
    }
   ],
   "source": [
    "main_df['Order ID'].duplicated().sum()"
   ]
  },
  {
   "cell_type": "markdown",
   "id": "e3630436",
   "metadata": {},
   "source": [
    "reference = https://stackoverflow.com/questions/27298178/concatenate-strings-from-several-rows-using-pandas-groupby"
   ]
  },
  {
   "cell_type": "markdown",
   "id": "bb32569e",
   "metadata": {},
   "source": [
    "### This Code was used for testing for Small slice of our main datasets and finally with more than 5hours of hit and trail i prepare datasets in appropriate form for applying appriori algorithm\n",
    "\n",
    "transaction_df = main_df.groupby('Order ID')['Product'].apply(','.join).reset_index()\n",
    "\n",
    "transaction_df\n",
    "\n",
    "transaction_df.isna().sum()\n",
    "\n",
    "transaction_df.duplicated().sum()\n",
    "\n",
    "transaction_df['Order ID'].duplicated().sum()\n",
    "\n",
    "transaction_df[transaction_df['Order ID'] == '141384']\n",
    "\n",
    "#for key, item in transaction_df:\n",
    "\n",
    "    #print(transaction_df.get_group(key), \"\\n\")\n",
    "\n",
    "#for key, item in transaction_df:\n",
    "\n",
    "     #print(item, \"\\n\")\n",
    "\n",
    "       #Order ID  #Product\n",
    "\n",
    "#58497   141384  USB-C Charging Cable\n",
    "\n",
    "#58496   141384          Google Phone\n",
    "\n",
    "mini_trans_df = transaction_df[:200].copy()\n",
    "mini_trans_df.iloc[150]\n",
    "\n",
    "trans_lst = (mini_trans_df['Product'].iloc[150].split(','))\n",
    "len(trans_lst)\n",
    "#trans_lst\n",
    "\n",
    "trans_lst = []\n",
    "\n",
    "for i in range(0, len(mini_trans_df)):\n",
    "\n",
    "    trans_lst.append(mini_trans_df['Product'].iloc[i].split(','))\n",
    "    \n",
    "trans_lst\n",
    "\n",
    "txdf = pd.DataFrame(trans_lst)\n",
    "\n",
    "#pd.set_option('display.max_rows', None)\n",
    "pd.reset_option(\"display.max_rows\")\n",
    "\n",
    "txdf.columns\n",
    "\n",
    "txdf.iloc[150]\n",
    "\n",
    "txdf.fillna(float(\"nan\"), inplace=True)\n",
    "txdf\n",
    "\n",
    "txdf.isna().sum()"
   ]
  },
  {
   "cell_type": "markdown",
   "id": "cc403ba6",
   "metadata": {},
   "source": [
    "## a) Preparing Our Datasets in Appropriate Form for Apriori Algorithm"
   ]
  },
  {
   "cell_type": "markdown",
   "id": "b6cd223b",
   "metadata": {},
   "source": [
    "### Grouping Datasets by `Order ID`\n",
    "\n",
    "We will appends items with same `Order ID` and separated them by `,` so that items which are bought together i.e. with same `Order ID` will be together in our dataset. Thus, our dataset will be like:\n",
    "\n",
    "<img src=\"./images/apriori-format.png\"/>\n",
    "\n",
    "Thus, for this dataset, we can apply Apriori Algorithm."
   ]
  },
  {
   "cell_type": "code",
   "execution_count": 66,
   "id": "16427503",
   "metadata": {},
   "outputs": [
    {
     "data": {
      "text/html": [
       "<div>\n",
       "<style scoped>\n",
       "    .dataframe tbody tr th:only-of-type {\n",
       "        vertical-align: middle;\n",
       "    }\n",
       "\n",
       "    .dataframe tbody tr th {\n",
       "        vertical-align: top;\n",
       "    }\n",
       "\n",
       "    .dataframe thead th {\n",
       "        text-align: right;\n",
       "    }\n",
       "</style>\n",
       "<table border=\"1\" class=\"dataframe\">\n",
       "  <thead>\n",
       "    <tr style=\"text-align: right;\">\n",
       "      <th></th>\n",
       "      <th>Order ID</th>\n",
       "      <th>Product</th>\n",
       "    </tr>\n",
       "  </thead>\n",
       "  <tbody>\n",
       "    <tr>\n",
       "      <th>0</th>\n",
       "      <td>141234</td>\n",
       "      <td>iPhone</td>\n",
       "    </tr>\n",
       "    <tr>\n",
       "      <th>1</th>\n",
       "      <td>141235</td>\n",
       "      <td>Lightning Charging Cable</td>\n",
       "    </tr>\n",
       "    <tr>\n",
       "      <th>2</th>\n",
       "      <td>141236</td>\n",
       "      <td>Wired Headphones</td>\n",
       "    </tr>\n",
       "    <tr>\n",
       "      <th>3</th>\n",
       "      <td>141237</td>\n",
       "      <td>27in FHD Monitor</td>\n",
       "    </tr>\n",
       "    <tr>\n",
       "      <th>4</th>\n",
       "      <td>141238</td>\n",
       "      <td>Wired Headphones</td>\n",
       "    </tr>\n",
       "  </tbody>\n",
       "</table>\n",
       "</div>"
      ],
      "text/plain": [
       "  Order ID                   Product\n",
       "0   141234                    iPhone\n",
       "1   141235  Lightning Charging Cable\n",
       "2   141236          Wired Headphones\n",
       "3   141237          27in FHD Monitor\n",
       "4   141238          Wired Headphones"
      ]
     },
     "execution_count": 66,
     "metadata": {},
     "output_type": "execute_result"
    }
   ],
   "source": [
    "transaction_df = main_df.groupby('Order ID')['Product'].apply(','.join).reset_index()\n",
    "transaction_df.head()"
   ]
  },
  {
   "cell_type": "markdown",
   "id": "b40bf3e9",
   "metadata": {},
   "source": [
    "Let's Check there are any `NaN` values and also `duplicated tuples`."
   ]
  },
  {
   "cell_type": "code",
   "execution_count": 67,
   "id": "03e4e250",
   "metadata": {},
   "outputs": [
    {
     "data": {
      "text/plain": [
       "Order ID    0\n",
       "Product     0\n",
       "dtype: int64"
      ]
     },
     "execution_count": 67,
     "metadata": {},
     "output_type": "execute_result"
    }
   ],
   "source": [
    "transaction_df.isna().sum()"
   ]
  },
  {
   "cell_type": "code",
   "execution_count": 68,
   "id": "4cbdd362",
   "metadata": {},
   "outputs": [
    {
     "data": {
      "text/plain": [
       "0"
      ]
     },
     "execution_count": 68,
     "metadata": {},
     "output_type": "execute_result"
    }
   ],
   "source": [
    "transaction_df.duplicated().sum()"
   ]
  },
  {
   "cell_type": "markdown",
   "id": "a3ec7ec4",
   "metadata": {},
   "source": [
    "Also, check if there is any duplicated `Order ID`. There must not be any duplicated tuples because items with same `Order ID` are appended together in only one `Order ID` values."
   ]
  },
  {
   "cell_type": "code",
   "execution_count": 69,
   "id": "fd57a2e8",
   "metadata": {},
   "outputs": [
    {
     "data": {
      "text/plain": [
       "0"
      ]
     },
     "execution_count": 69,
     "metadata": {},
     "output_type": "execute_result"
    }
   ],
   "source": [
    "transaction_df.duplicated().sum()"
   ]
  },
  {
   "cell_type": "markdown",
   "id": "74ba7f26",
   "metadata": {},
   "source": [
    "Let's check one sample dataset with more than 1 items for same `Order ID`"
   ]
  },
  {
   "cell_type": "code",
   "execution_count": 70,
   "id": "57e8999b",
   "metadata": {},
   "outputs": [
    {
     "data": {
      "text/html": [
       "<div>\n",
       "<style scoped>\n",
       "    .dataframe tbody tr th:only-of-type {\n",
       "        vertical-align: middle;\n",
       "    }\n",
       "\n",
       "    .dataframe tbody tr th {\n",
       "        vertical-align: top;\n",
       "    }\n",
       "\n",
       "    .dataframe thead th {\n",
       "        text-align: right;\n",
       "    }\n",
       "</style>\n",
       "<table border=\"1\" class=\"dataframe\">\n",
       "  <thead>\n",
       "    <tr style=\"text-align: right;\">\n",
       "      <th></th>\n",
       "      <th>Order ID</th>\n",
       "      <th>Product</th>\n",
       "    </tr>\n",
       "  </thead>\n",
       "  <tbody>\n",
       "    <tr>\n",
       "      <th>150</th>\n",
       "      <td>141384</td>\n",
       "      <td>USB-C Charging Cable,Google Phone</td>\n",
       "    </tr>\n",
       "  </tbody>\n",
       "</table>\n",
       "</div>"
      ],
      "text/plain": [
       "    Order ID                            Product\n",
       "150   141384  USB-C Charging Cable,Google Phone"
      ]
     },
     "execution_count": 70,
     "metadata": {},
     "output_type": "execute_result"
    }
   ],
   "source": [
    "transaction_df[transaction_df['Order ID'] == '141384']"
   ]
  },
  {
   "cell_type": "markdown",
   "id": "333cebd5",
   "metadata": {},
   "source": [
    "Here, `Order ID` acts like `Tx ID`."
   ]
  },
  {
   "cell_type": "markdown",
   "id": "124130db",
   "metadata": {},
   "source": [
    "### Extracting Product Values as list of list of Products & Conveting it into DataFrame\n",
    "\n",
    "Thus, we will get our final Dataframe for applying Apriori\n",
    "\n",
    "<img src=\"./images/apriori-format.png\"/>"
   ]
  },
  {
   "cell_type": "code",
   "execution_count": 71,
   "id": "a36a896e",
   "metadata": {},
   "outputs": [
    {
     "data": {
      "text/plain": [
       "[['USB-C Charging Cable'],\n",
       " ['Wired Headphones', 'USB-C Charging Cable'],\n",
       " ['Lightning Charging Cable'],\n",
       " ['Bose SoundSport Headphones'],\n",
       " ['Lightning Charging Cable']]"
      ]
     },
     "execution_count": 71,
     "metadata": {},
     "output_type": "execute_result"
    }
   ],
   "source": [
    "#Extracting list of list of Products (Nested List)\n",
    "\n",
    "trans_items_lst = []\n",
    "for i in range(0, len(transaction_df)):\n",
    "    trans_items_lst.append(transaction_df['Product'].iloc[i].split(','))\n",
    "trans_items_lst[40:45]"
   ]
  },
  {
   "cell_type": "code",
   "execution_count": 72,
   "id": "25b845a1",
   "metadata": {},
   "outputs": [
    {
     "data": {
      "text/html": [
       "<div>\n",
       "<style scoped>\n",
       "    .dataframe tbody tr th:only-of-type {\n",
       "        vertical-align: middle;\n",
       "    }\n",
       "\n",
       "    .dataframe tbody tr th {\n",
       "        vertical-align: top;\n",
       "    }\n",
       "\n",
       "    .dataframe thead th {\n",
       "        text-align: right;\n",
       "    }\n",
       "</style>\n",
       "<table border=\"1\" class=\"dataframe\">\n",
       "  <thead>\n",
       "    <tr style=\"text-align: right;\">\n",
       "      <th></th>\n",
       "      <th>0</th>\n",
       "      <th>1</th>\n",
       "      <th>2</th>\n",
       "      <th>3</th>\n",
       "      <th>4</th>\n",
       "    </tr>\n",
       "  </thead>\n",
       "  <tbody>\n",
       "    <tr>\n",
       "      <th>0</th>\n",
       "      <td>iPhone</td>\n",
       "      <td>None</td>\n",
       "      <td>None</td>\n",
       "      <td>None</td>\n",
       "      <td>None</td>\n",
       "    </tr>\n",
       "    <tr>\n",
       "      <th>1</th>\n",
       "      <td>Lightning Charging Cable</td>\n",
       "      <td>None</td>\n",
       "      <td>None</td>\n",
       "      <td>None</td>\n",
       "      <td>None</td>\n",
       "    </tr>\n",
       "    <tr>\n",
       "      <th>2</th>\n",
       "      <td>Wired Headphones</td>\n",
       "      <td>None</td>\n",
       "      <td>None</td>\n",
       "      <td>None</td>\n",
       "      <td>None</td>\n",
       "    </tr>\n",
       "    <tr>\n",
       "      <th>3</th>\n",
       "      <td>27in FHD Monitor</td>\n",
       "      <td>None</td>\n",
       "      <td>None</td>\n",
       "      <td>None</td>\n",
       "      <td>None</td>\n",
       "    </tr>\n",
       "    <tr>\n",
       "      <th>4</th>\n",
       "      <td>Wired Headphones</td>\n",
       "      <td>None</td>\n",
       "      <td>None</td>\n",
       "      <td>None</td>\n",
       "      <td>None</td>\n",
       "    </tr>\n",
       "  </tbody>\n",
       "</table>\n",
       "</div>"
      ],
      "text/plain": [
       "                          0     1     2     3     4\n",
       "0                    iPhone  None  None  None  None\n",
       "1  Lightning Charging Cable  None  None  None  None\n",
       "2          Wired Headphones  None  None  None  None\n",
       "3          27in FHD Monitor  None  None  None  None\n",
       "4          Wired Headphones  None  None  None  None"
      ]
     },
     "execution_count": 72,
     "metadata": {},
     "output_type": "execute_result"
    }
   ],
   "source": [
    "# Converting into DataFrame.\n",
    "\n",
    "txdf = pd.DataFrame(trans_items_lst)\n",
    "txdf.head()"
   ]
  },
  {
   "cell_type": "code",
   "execution_count": 73,
   "id": "9c5cefbe",
   "metadata": {},
   "outputs": [
    {
     "data": {
      "text/plain": [
       "0    USB-C Charging Cable\n",
       "1            Google Phone\n",
       "2                    None\n",
       "3                    None\n",
       "4                    None\n",
       "Name: 150, dtype: object"
      ]
     },
     "execution_count": 73,
     "metadata": {},
     "output_type": "execute_result"
    }
   ],
   "source": [
    "txdf.iloc[150]"
   ]
  },
  {
   "cell_type": "code",
   "execution_count": 74,
   "id": "e675b5ed",
   "metadata": {},
   "outputs": [
    {
     "data": {
      "text/html": [
       "<div>\n",
       "<style scoped>\n",
       "    .dataframe tbody tr th:only-of-type {\n",
       "        vertical-align: middle;\n",
       "    }\n",
       "\n",
       "    .dataframe tbody tr th {\n",
       "        vertical-align: top;\n",
       "    }\n",
       "\n",
       "    .dataframe thead th {\n",
       "        text-align: right;\n",
       "    }\n",
       "</style>\n",
       "<table border=\"1\" class=\"dataframe\">\n",
       "  <thead>\n",
       "    <tr style=\"text-align: right;\">\n",
       "      <th></th>\n",
       "      <th>0</th>\n",
       "      <th>1</th>\n",
       "      <th>2</th>\n",
       "      <th>3</th>\n",
       "      <th>4</th>\n",
       "    </tr>\n",
       "  </thead>\n",
       "  <tbody>\n",
       "    <tr>\n",
       "      <th>0</th>\n",
       "      <td>iPhone</td>\n",
       "      <td>NaN</td>\n",
       "      <td>NaN</td>\n",
       "      <td>NaN</td>\n",
       "      <td>NaN</td>\n",
       "    </tr>\n",
       "    <tr>\n",
       "      <th>1</th>\n",
       "      <td>Lightning Charging Cable</td>\n",
       "      <td>NaN</td>\n",
       "      <td>NaN</td>\n",
       "      <td>NaN</td>\n",
       "      <td>NaN</td>\n",
       "    </tr>\n",
       "    <tr>\n",
       "      <th>2</th>\n",
       "      <td>Wired Headphones</td>\n",
       "      <td>NaN</td>\n",
       "      <td>NaN</td>\n",
       "      <td>NaN</td>\n",
       "      <td>NaN</td>\n",
       "    </tr>\n",
       "    <tr>\n",
       "      <th>3</th>\n",
       "      <td>27in FHD Monitor</td>\n",
       "      <td>NaN</td>\n",
       "      <td>NaN</td>\n",
       "      <td>NaN</td>\n",
       "      <td>NaN</td>\n",
       "    </tr>\n",
       "    <tr>\n",
       "      <th>4</th>\n",
       "      <td>Wired Headphones</td>\n",
       "      <td>NaN</td>\n",
       "      <td>NaN</td>\n",
       "      <td>NaN</td>\n",
       "      <td>NaN</td>\n",
       "    </tr>\n",
       "  </tbody>\n",
       "</table>\n",
       "</div>"
      ],
      "text/plain": [
       "                          0    1    2    3    4\n",
       "0                    iPhone  NaN  NaN  NaN  NaN\n",
       "1  Lightning Charging Cable  NaN  NaN  NaN  NaN\n",
       "2          Wired Headphones  NaN  NaN  NaN  NaN\n",
       "3          27in FHD Monitor  NaN  NaN  NaN  NaN\n",
       "4          Wired Headphones  NaN  NaN  NaN  NaN"
      ]
     },
     "execution_count": 74,
     "metadata": {},
     "output_type": "execute_result"
    }
   ],
   "source": [
    "txdf.fillna(float(\"nan\"), inplace=True)\n",
    "txdf.head()"
   ]
  },
  {
   "cell_type": "code",
   "execution_count": 75,
   "id": "95a82cde",
   "metadata": {},
   "outputs": [
    {
     "data": {
      "text/plain": [
       "0         0\n",
       "1    171558\n",
       "2    178084\n",
       "3    178421\n",
       "4    178436\n",
       "dtype: int64"
      ]
     },
     "execution_count": 75,
     "metadata": {},
     "output_type": "execute_result"
    }
   ],
   "source": [
    "txdf.isna().sum()"
   ]
  },
  {
   "cell_type": "code",
   "execution_count": 76,
   "id": "de96b9b2",
   "metadata": {},
   "outputs": [
    {
     "data": {
      "text/plain": [
       "892185"
      ]
     },
     "execution_count": 76,
     "metadata": {},
     "output_type": "execute_result"
    }
   ],
   "source": [
    "txdf.size"
   ]
  },
  {
   "cell_type": "markdown",
   "id": "9db50d34",
   "metadata": {},
   "source": [
    "## b) Applying Apriori Algorithm\n",
    "\n",
    "a) First, Finding Rules from Frequent Itemsets of length=2\n",
    "\n",
    "b) Secondly, Finding Rules from Frequent Itemsets of length=3 and can be changed.(Generalized)\n",
    "\n",
    "Min_Support, Min_Confidence and Lift values are taken randomly for this task."
   ]
  },
  {
   "cell_type": "markdown",
   "id": "00c47a5d",
   "metadata": {},
   "source": [
    "## A) Generating Rules for FreItemsets of Length=2\n",
    "\n",
    "### Extracting each row as List."
   ]
  },
  {
   "cell_type": "code",
   "execution_count": 77,
   "id": "7499b003",
   "metadata": {},
   "outputs": [],
   "source": [
    "txitem_list = []\n",
    "for i in range(1,len(txdf)):\n",
    "    txitem_list.append([str(txdf.values[i,j]) for j in range(0,txdf.shape[1])])"
   ]
  },
  {
   "cell_type": "code",
   "execution_count": 78,
   "id": "72f74eee",
   "metadata": {},
   "outputs": [
    {
     "data": {
      "text/plain": [
       "[['Lightning Charging Cable', 'nan', 'nan', 'nan', 'nan']]"
      ]
     },
     "execution_count": 78,
     "metadata": {},
     "output_type": "execute_result"
    }
   ],
   "source": [
    "txitem_list[:1]"
   ]
  },
  {
   "cell_type": "markdown",
   "id": "50b55254",
   "metadata": {},
   "source": [
    "For instaling apyori, \n",
    "\n",
    "!pip install apyori"
   ]
  },
  {
   "cell_type": "code",
   "execution_count": 79,
   "id": "5f29b3c2",
   "metadata": {},
   "outputs": [
    {
     "data": {
      "text/plain": [
       "(178.436, 178436)"
      ]
     },
     "execution_count": 79,
     "metadata": {},
     "output_type": "execute_result"
    }
   ],
   "source": [
    "0.001 * len(txitem_list), len(txitem_list)"
   ]
  },
  {
   "cell_type": "code",
   "execution_count": 80,
   "id": "d7e79551",
   "metadata": {},
   "outputs": [],
   "source": [
    "from apyori import apriori\n",
    "\n",
    "#applying apriori algorithm\n",
    "\n",
    "association_rules = apriori(txitem_list, min_support=0.0001, min_confidence= 0.1, min_lift = 1, min_length=2)\n",
    "association_results = list(association_rules)"
   ]
  },
  {
   "cell_type": "markdown",
   "id": "fd55e13f",
   "metadata": {},
   "source": [
    "### You can uncomment those commented lines and see results and analyze."
   ]
  },
  {
   "cell_type": "code",
   "execution_count": 81,
   "id": "1b7e8844",
   "metadata": {},
   "outputs": [],
   "source": [
    "# for i in range(0, len(association_results)):\n",
    "#     print(association_results[i][0])\n"
   ]
  },
  {
   "cell_type": "code",
   "execution_count": 82,
   "id": "17bdc015",
   "metadata": {},
   "outputs": [
    {
     "name": "stdout",
     "output_type": "stream",
     "text": [
      "101\n"
     ]
    }
   ],
   "source": [
    "print(len(association_results))"
   ]
  },
  {
   "cell_type": "code",
   "execution_count": 83,
   "id": "7dd566ab",
   "metadata": {
    "scrolled": true
   },
   "outputs": [],
   "source": [
    "# for item in association_results[:1]:\n",
    "#     if len(list(item[0])) == 2 and not \"nan\" in list(item[0]):\n",
    "#         print(item,\"\\n\\n\")"
   ]
  },
  {
   "cell_type": "markdown",
   "id": "9d2fb90f",
   "metadata": {},
   "source": [
    "In `Each OrderedStatistics` items_base is the antecedent and the items_add is the consequent.\n",
    "\n",
    "So our rule will be:\n",
    "\n",
    "    items_base --> items_add"
   ]
  },
  {
   "cell_type": "code",
   "execution_count": 84,
   "id": "a4be4504",
   "metadata": {},
   "outputs": [
    {
     "name": "stdout",
     "output_type": "stream",
     "text": [
      "['USB-C Charging Cable', 'Google Phone']\n",
      "['iPhone', 'Lightning Charging Cable']\n",
      "['USB-C Charging Cable', 'Vareebadd Phone']\n"
     ]
    }
   ],
   "source": [
    "rule_lst = []\n",
    "support_lst = []\n",
    "confidence_lst = []\n",
    "lift_lst = []\n",
    "\n",
    "for item in association_results:\n",
    "#     print(item)\n",
    "#     print(f\"{item}\\n\\n\")\n",
    "    if len(list(item[0])) == 2 and not \"nan\" in item[0]:\n",
    "        for rule in item[2]:\n",
    "            print(list(item[0]))\n",
    "            if len(list(rule[0])) > 0 and len(list(rule[1])) > 0: # Some rules may contain empty antecedents or consequences\n",
    "                rule_lst.append(f\"({' & '.join(rule[0])}) ->  ({' & '.join(rule[1])})\")\n",
    "                support_lst.append(float(item[1]))\n",
    "                confidence_lst.append(float(rule[2]))\n",
    "                lift_lst.append(float(rule[3])) "
   ]
  },
  {
   "cell_type": "code",
   "execution_count": 85,
   "id": "494ca83e",
   "metadata": {},
   "outputs": [],
   "source": [
    "# rule_lst = []\n",
    "# support_lst = []\n",
    "# confidence_lst = []\n",
    "# lift_lst = []\n",
    "\n",
    "# for item in association_results:\n",
    "#     pair = item[0]\n",
    "#     print(pair)\n",
    "#     items = [x for x in pair]\n",
    "#     if len(items) == 2 and not \"nan\" in items:\n",
    "#         rule_lst.append(f\"({items[0]}) ->  ({items[1]})\")\n",
    "#         # second index of the inner list\n",
    "#         print()\n",
    "#         support_lst.append(float(item[1]))\n",
    "#         confidence_lst.append(float(item[2][0][2]))\n",
    "#         lift_lst.append(float(item[2][0][3])) "
   ]
  },
  {
   "cell_type": "code",
   "execution_count": 86,
   "id": "42e9af29",
   "metadata": {},
   "outputs": [
    {
     "data": {
      "text/html": [
       "<div>\n",
       "<style scoped>\n",
       "    .dataframe tbody tr th:only-of-type {\n",
       "        vertical-align: middle;\n",
       "    }\n",
       "\n",
       "    .dataframe tbody tr th {\n",
       "        vertical-align: top;\n",
       "    }\n",
       "\n",
       "    .dataframe thead th {\n",
       "        text-align: right;\n",
       "    }\n",
       "</style>\n",
       "<table border=\"1\" class=\"dataframe\">\n",
       "  <thead>\n",
       "    <tr style=\"text-align: right;\">\n",
       "      <th></th>\n",
       "      <th>Rule</th>\n",
       "      <th>Support</th>\n",
       "      <th>Confidence</th>\n",
       "      <th>Lift</th>\n",
       "      <th>Support Count</th>\n",
       "    </tr>\n",
       "  </thead>\n",
       "  <tbody>\n",
       "    <tr>\n",
       "      <th>0</th>\n",
       "      <td>(Google Phone) -&gt;  (USB-C Charging Cable)</td>\n",
       "      <td>0.005587</td>\n",
       "      <td>0.180551</td>\n",
       "      <td>1.474112</td>\n",
       "      <td>32216.713510</td>\n",
       "    </tr>\n",
       "    <tr>\n",
       "      <th>1</th>\n",
       "      <td>(iPhone) -&gt;  (Lightning Charging Cable)</td>\n",
       "      <td>0.005666</td>\n",
       "      <td>0.147829</td>\n",
       "      <td>1.220975</td>\n",
       "      <td>26377.949408</td>\n",
       "    </tr>\n",
       "    <tr>\n",
       "      <th>2</th>\n",
       "      <td>(Vareebadd Phone) -&gt;  (USB-C Charging Cable)</td>\n",
       "      <td>0.002062</td>\n",
       "      <td>0.178208</td>\n",
       "      <td>1.454988</td>\n",
       "      <td>31798.764165</td>\n",
       "    </tr>\n",
       "  </tbody>\n",
       "</table>\n",
       "</div>"
      ],
      "text/plain": [
       "                                           Rule   Support  Confidence  \\\n",
       "0     (Google Phone) ->  (USB-C Charging Cable)  0.005587    0.180551   \n",
       "1       (iPhone) ->  (Lightning Charging Cable)  0.005666    0.147829   \n",
       "2  (Vareebadd Phone) ->  (USB-C Charging Cable)  0.002062    0.178208   \n",
       "\n",
       "       Lift  Support Count  \n",
       "0  1.474112   32216.713510  \n",
       "1  1.220975   26377.949408  \n",
       "2  1.454988   31798.764165  "
      ]
     },
     "execution_count": 86,
     "metadata": {},
     "output_type": "execute_result"
    }
   ],
   "source": [
    "result_df = pd.DataFrame({'Rule': rule_lst,\n",
    "                          'Support': support_lst,\n",
    "                          'Confidence': confidence_lst,\n",
    "                          'Lift': lift_lst})\n",
    "result_df['Support Count'] = result_df['Confidence'].apply(lambda x: x*len(txitem_list))\n",
    "result_df.head()"
   ]
  },
  {
   "cell_type": "markdown",
   "id": "03131364",
   "metadata": {},
   "source": [
    "## This is Rules Table Generated from frequent itemsets of 2 items."
   ]
  },
  {
   "cell_type": "markdown",
   "id": "3aaf6fe8",
   "metadata": {},
   "source": [
    "#### Sorting it by `Confidence` in Decending Orders."
   ]
  },
  {
   "cell_type": "code",
   "execution_count": 87,
   "id": "6b3bb321",
   "metadata": {},
   "outputs": [
    {
     "data": {
      "text/plain": [
       "Index(['Rule', 'Support', 'Confidence', 'Lift', 'Support Count'], dtype='object')"
      ]
     },
     "execution_count": 87,
     "metadata": {},
     "output_type": "execute_result"
    }
   ],
   "source": [
    "result_df.columns"
   ]
  },
  {
   "cell_type": "code",
   "execution_count": 88,
   "id": "f6738552",
   "metadata": {},
   "outputs": [
    {
     "data": {
      "text/plain": [
       "3"
      ]
     },
     "execution_count": 88,
     "metadata": {},
     "output_type": "execute_result"
    }
   ],
   "source": [
    "len(result_df)"
   ]
  },
  {
   "cell_type": "code",
   "execution_count": 89,
   "id": "11cd1d4d",
   "metadata": {},
   "outputs": [
    {
     "name": "stdout",
     "output_type": "stream",
     "text": [
      "## This is Sorted Rules Table in descending order, Generated from frequent itemsets of 2 items.\n"
     ]
    },
    {
     "data": {
      "text/html": [
       "<div>\n",
       "<style scoped>\n",
       "    .dataframe tbody tr th:only-of-type {\n",
       "        vertical-align: middle;\n",
       "    }\n",
       "\n",
       "    .dataframe tbody tr th {\n",
       "        vertical-align: top;\n",
       "    }\n",
       "\n",
       "    .dataframe thead th {\n",
       "        text-align: right;\n",
       "    }\n",
       "</style>\n",
       "<table border=\"1\" class=\"dataframe\">\n",
       "  <thead>\n",
       "    <tr style=\"text-align: right;\">\n",
       "      <th></th>\n",
       "      <th>Rule</th>\n",
       "      <th>Support</th>\n",
       "      <th>Confidence</th>\n",
       "      <th>Lift</th>\n",
       "      <th>Support Count</th>\n",
       "    </tr>\n",
       "  </thead>\n",
       "  <tbody>\n",
       "    <tr>\n",
       "      <th>0</th>\n",
       "      <td>(Google Phone) -&gt;  (USB-C Charging Cable)</td>\n",
       "      <td>0.005587</td>\n",
       "      <td>0.180551</td>\n",
       "      <td>1.474112</td>\n",
       "      <td>32216.713510</td>\n",
       "    </tr>\n",
       "    <tr>\n",
       "      <th>2</th>\n",
       "      <td>(Vareebadd Phone) -&gt;  (USB-C Charging Cable)</td>\n",
       "      <td>0.002062</td>\n",
       "      <td>0.178208</td>\n",
       "      <td>1.454988</td>\n",
       "      <td>31798.764165</td>\n",
       "    </tr>\n",
       "    <tr>\n",
       "      <th>1</th>\n",
       "      <td>(iPhone) -&gt;  (Lightning Charging Cable)</td>\n",
       "      <td>0.005666</td>\n",
       "      <td>0.147829</td>\n",
       "      <td>1.220975</td>\n",
       "      <td>26377.949408</td>\n",
       "    </tr>\n",
       "  </tbody>\n",
       "</table>\n",
       "</div>"
      ],
      "text/plain": [
       "                                           Rule   Support  Confidence  \\\n",
       "0     (Google Phone) ->  (USB-C Charging Cable)  0.005587    0.180551   \n",
       "2  (Vareebadd Phone) ->  (USB-C Charging Cable)  0.002062    0.178208   \n",
       "1       (iPhone) ->  (Lightning Charging Cable)  0.005666    0.147829   \n",
       "\n",
       "       Lift  Support Count  \n",
       "0  1.474112   32216.713510  \n",
       "2  1.454988   31798.764165  \n",
       "1  1.220975   26377.949408  "
      ]
     },
     "execution_count": 89,
     "metadata": {},
     "output_type": "execute_result"
    }
   ],
   "source": [
    "result_df = result_df.sort_values(by='Confidence', ascending=False)\n",
    "print(\"## This is Sorted Rules Table in descending order, Generated from frequent itemsets of 2 items.\")\n",
    "result_df.head()"
   ]
  },
  {
   "cell_type": "markdown",
   "id": "adc669f1",
   "metadata": {},
   "source": [
    "### Conclusion:\n",
    "\n",
    "Customers who buy `Google Phone` are 18.05% likely to buy `USB-C Charging Cable`"
   ]
  },
  {
   "cell_type": "markdown",
   "id": "7d80d94c",
   "metadata": {},
   "source": [
    "## B) Generating Rules for FreItemsets of Length=3\n",
    "\n",
    "It took me nearly a whole day to do this functioning. So, just play with codes, print results at every steps but don't forgot to know what is our required result. We can go through `mlxtend` Mlxtend (machine learning extensions) is a Python library of useful tools for the day-to-day data science tasks."
   ]
  },
  {
   "cell_type": "code",
   "execution_count": 90,
   "id": "4d130565",
   "metadata": {},
   "outputs": [],
   "source": [
    "from apyori import apriori\n",
    "\n",
    "#applying apriori algorithm\n",
    "association_rules = apriori(txitem_list, min_support=0.0001, min_confidence=0.1, min_lift=1, min_length=3)\n",
    "association_results = list(association_rules)"
   ]
  },
  {
   "cell_type": "code",
   "execution_count": 91,
   "id": "bf71f584",
   "metadata": {},
   "outputs": [
    {
     "name": "stdout",
     "output_type": "stream",
     "text": [
      "101\n"
     ]
    }
   ],
   "source": [
    "print(len(association_results))"
   ]
  },
  {
   "cell_type": "code",
   "execution_count": 92,
   "id": "7eccc2ce",
   "metadata": {},
   "outputs": [],
   "source": [
    "# do_lst = ['A']\n",
    "# print('&'.join(do_lst))"
   ]
  },
  {
   "cell_type": "markdown",
   "id": "a403454f",
   "metadata": {},
   "source": [
    "For making this code and generating this idea took nearly 5/6 hours with lots of printing, debugging and analysis.So, just print output at every steps breaking the codes below. Don't go in rush, Just go slow you will understand. If you still not understand, just contact me. Link in Last of this file."
   ]
  },
  {
   "cell_type": "code",
   "execution_count": 93,
   "id": "dff76281",
   "metadata": {
    "scrolled": true
   },
   "outputs": [
    {
     "name": "stdout",
     "output_type": "stream",
     "text": [
      "This is Sorted Rules Table in descending order, Generated from frequent itemsets of 3 items.\n"
     ]
    },
    {
     "data": {
      "text/html": [
       "<div>\n",
       "<style scoped>\n",
       "    .dataframe tbody tr th:only-of-type {\n",
       "        vertical-align: middle;\n",
       "    }\n",
       "\n",
       "    .dataframe tbody tr th {\n",
       "        vertical-align: top;\n",
       "    }\n",
       "\n",
       "    .dataframe thead th {\n",
       "        text-align: right;\n",
       "    }\n",
       "</style>\n",
       "<table border=\"1\" class=\"dataframe\">\n",
       "  <thead>\n",
       "    <tr style=\"text-align: right;\">\n",
       "      <th></th>\n",
       "      <th>Rule</th>\n",
       "      <th>Support</th>\n",
       "      <th>Confidence</th>\n",
       "      <th>Lift</th>\n",
       "      <th>Support Count</th>\n",
       "    </tr>\n",
       "  </thead>\n",
       "  <tbody>\n",
       "    <tr>\n",
       "      <th>8</th>\n",
       "      <td>(Lightning Charging Cable &amp; Wired Headphones) --&gt; (iPhone)</td>\n",
       "      <td>0.000353</td>\n",
       "      <td>0.488372</td>\n",
       "      <td>12.742091</td>\n",
       "      <td>63.0</td>\n",
       "    </tr>\n",
       "    <tr>\n",
       "      <th>7</th>\n",
       "      <td>(USB-C Charging Cable &amp; Wired Headphones) --&gt; (Google Phone)</td>\n",
       "      <td>0.000488</td>\n",
       "      <td>0.428571</td>\n",
       "      <td>13.848709</td>\n",
       "      <td>87.0</td>\n",
       "    </tr>\n",
       "    <tr>\n",
       "      <th>0</th>\n",
       "      <td>(Apple Airpods Headphones &amp; Lightning Charging Cable) --&gt; (iPhone)</td>\n",
       "      <td>0.000263</td>\n",
       "      <td>0.405172</td>\n",
       "      <td>10.571333</td>\n",
       "      <td>47.0</td>\n",
       "    </tr>\n",
       "    <tr>\n",
       "      <th>4</th>\n",
       "      <td>(Bose SoundSport Headphones &amp; USB-C Charging Cable) --&gt; (Google Phone)</td>\n",
       "      <td>0.000196</td>\n",
       "      <td>0.343137</td>\n",
       "      <td>11.088019</td>\n",
       "      <td>35.0</td>\n",
       "    </tr>\n",
       "    <tr>\n",
       "      <th>5</th>\n",
       "      <td>(Bose SoundSport Headphones &amp; Wired Headphones) --&gt; (Google Phone)</td>\n",
       "      <td>0.000135</td>\n",
       "      <td>0.324324</td>\n",
       "      <td>10.480104</td>\n",
       "      <td>24.0</td>\n",
       "    </tr>\n",
       "    <tr>\n",
       "      <th>2</th>\n",
       "      <td>(Apple Airpods Headphones &amp; Wired Headphones) --&gt; (iPhone)</td>\n",
       "      <td>0.000151</td>\n",
       "      <td>0.270000</td>\n",
       "      <td>7.044556</td>\n",
       "      <td>27.0</td>\n",
       "    </tr>\n",
       "    <tr>\n",
       "      <th>11</th>\n",
       "      <td>(Wired Headphones &amp; Vareebadd Phone) --&gt; (USB-C Charging Cable)</td>\n",
       "      <td>0.000185</td>\n",
       "      <td>0.221477</td>\n",
       "      <td>1.808254</td>\n",
       "      <td>33.0</td>\n",
       "    </tr>\n",
       "    <tr>\n",
       "      <th>6</th>\n",
       "      <td>(Google Phone &amp; Wired Headphones) --&gt; (USB-C Charging Cable)</td>\n",
       "      <td>0.000488</td>\n",
       "      <td>0.206161</td>\n",
       "      <td>1.683211</td>\n",
       "      <td>87.0</td>\n",
       "    </tr>\n",
       "    <tr>\n",
       "      <th>10</th>\n",
       "      <td>(USB-C Charging Cable &amp; Wired Headphones) --&gt; (Vareebadd Phone)</td>\n",
       "      <td>0.000185</td>\n",
       "      <td>0.162562</td>\n",
       "      <td>14.046895</td>\n",
       "      <td>33.0</td>\n",
       "    </tr>\n",
       "    <tr>\n",
       "      <th>3</th>\n",
       "      <td>(Bose SoundSport Headphones &amp; Google Phone) --&gt; (USB-C Charging Cable)</td>\n",
       "      <td>0.000196</td>\n",
       "      <td>0.153509</td>\n",
       "      <td>1.253328</td>\n",
       "      <td>35.0</td>\n",
       "    </tr>\n",
       "    <tr>\n",
       "      <th>9</th>\n",
       "      <td>(iPhone &amp; Wired Headphones) --&gt; (Lightning Charging Cable)</td>\n",
       "      <td>0.000353</td>\n",
       "      <td>0.136364</td>\n",
       "      <td>1.126281</td>\n",
       "      <td>63.0</td>\n",
       "    </tr>\n",
       "    <tr>\n",
       "      <th>1</th>\n",
       "      <td>(Apple Airpods Headphones &amp; iPhone) --&gt; (Lightning Charging Cable)</td>\n",
       "      <td>0.000263</td>\n",
       "      <td>0.126005</td>\n",
       "      <td>1.040728</td>\n",
       "      <td>47.0</td>\n",
       "    </tr>\n",
       "  </tbody>\n",
       "</table>\n",
       "</div>"
      ],
      "text/plain": [
       "                                                                      Rule  \\\n",
       "8               (Lightning Charging Cable & Wired Headphones) --> (iPhone)   \n",
       "7             (USB-C Charging Cable & Wired Headphones) --> (Google Phone)   \n",
       "0       (Apple Airpods Headphones & Lightning Charging Cable) --> (iPhone)   \n",
       "4   (Bose SoundSport Headphones & USB-C Charging Cable) --> (Google Phone)   \n",
       "5       (Bose SoundSport Headphones & Wired Headphones) --> (Google Phone)   \n",
       "2               (Apple Airpods Headphones & Wired Headphones) --> (iPhone)   \n",
       "11         (Wired Headphones & Vareebadd Phone) --> (USB-C Charging Cable)   \n",
       "6             (Google Phone & Wired Headphones) --> (USB-C Charging Cable)   \n",
       "10         (USB-C Charging Cable & Wired Headphones) --> (Vareebadd Phone)   \n",
       "3   (Bose SoundSport Headphones & Google Phone) --> (USB-C Charging Cable)   \n",
       "9               (iPhone & Wired Headphones) --> (Lightning Charging Cable)   \n",
       "1       (Apple Airpods Headphones & iPhone) --> (Lightning Charging Cable)   \n",
       "\n",
       "     Support  Confidence       Lift  Support Count  \n",
       "8   0.000353    0.488372  12.742091           63.0  \n",
       "7   0.000488    0.428571  13.848709           87.0  \n",
       "0   0.000263    0.405172  10.571333           47.0  \n",
       "4   0.000196    0.343137  11.088019           35.0  \n",
       "5   0.000135    0.324324  10.480104           24.0  \n",
       "2   0.000151    0.270000   7.044556           27.0  \n",
       "11  0.000185    0.221477   1.808254           33.0  \n",
       "6   0.000488    0.206161   1.683211           87.0  \n",
       "10  0.000185    0.162562  14.046895           33.0  \n",
       "3   0.000196    0.153509   1.253328           35.0  \n",
       "9   0.000353    0.136364   1.126281           63.0  \n",
       "1   0.000263    0.126005   1.040728           47.0  "
      ]
     },
     "execution_count": 93,
     "metadata": {},
     "output_type": "execute_result"
    }
   ],
   "source": [
    "rule_lst = []\n",
    "support_lst = []\n",
    "confidence_lst = []\n",
    "lift_lst = []\n",
    "valid_itemsets = []\n",
    "frequent_itemsets_length = 3 # considering length of  itemsets for rule mining.\n",
    "for item in association_results:\n",
    "#     print(list(item[0]))\n",
    "    if not \"nan\" in item[0] and len(list(item[0])) == frequent_itemsets_length:\n",
    "#         print(list(item), \"\\n\")\n",
    "        for rule in item[2]:\n",
    "#             valid_itemsets.append(item)\n",
    "#             print(rule, \"\\n\")\n",
    "            if len(list(rule[0])) > 0 and len(list(rule[1])) > 0: # Some rules may contain empty antecedents or consequences\n",
    "                rule_lst.append(f\"({' & '.join(list(rule[0]))}) --> ({' & '.join(list(rule[1]))})\")\n",
    "                support_lst.append(float(item[1]))\n",
    "                confidence_lst.append(float(rule[2]))\n",
    "                lift_lst.append(float(rule[3]))\n",
    "                \n",
    "# print(f\"Length of support_lst:{len(support_lst)}\\nLength of rule_lst:{len(rule_lst)}\\nLength of confidence_lst:\n",
    "#       {len(confidence_lst)}\\nLength of lift_lst:{len(lift_lst)}\\n\")\n",
    "\n",
    "result_df = pd.DataFrame({'Rule': rule_lst,\n",
    "                          'Support': support_lst,\n",
    "                          'Confidence': confidence_lst,\n",
    "                          'Lift': lift_lst})\n",
    "result_df['Support Count'] = result_df['Support'].apply(lambda x: x*len(txitem_list))\n",
    "pd.options.display.max_colwidth = 100 ## For Printing column Values with large no of Characters.\n",
    "result_df = result_df.sort_values(by='Confidence', ascending=False)\n",
    "print(f\"This is Sorted Rules Table in descending order, Generated from frequent itemsets of {frequent_itemsets_length} items.\")\n",
    "result_df"
   ]
  },
  {
   "cell_type": "markdown",
   "id": "d2ee329b",
   "metadata": {},
   "source": [
    "### Conclusion:\n",
    "\n",
    "Customers who buy `Lightning Charging Cable & Wired Headphones` are 48.83 % likely to buy `iPhone`"
   ]
  },
  {
   "cell_type": "markdown",
   "id": "023c28c5",
   "metadata": {},
   "source": [
    "### These are the printed records of Sample which i kept here just to understand when i will be back to it after long gap.\n",
    "\n",
    "You can also print and record and do your analysis.\n",
    "\n",
    "#### Sample Output of print(item): \n",
    "    \n",
    "RelationRecord(items=frozenset({'iPhone', 'Apple Airpods Headphones', 'Lightning Charging Cable'}), support=0.00026339976237978885, ordered_statistics=[OrderedStatistic(items_base=frozenset({'Apple Airpods Headphones'}), items_add=frozenset({'iPhone', 'Lightning Charging Cable'}), confidence=0.0030273752012882453, lift=0.5343152536271705), OrderedStatistic(items_base=frozenset({'Lightning Charging Cable'}), items_add=frozenset({'iPhone', 'Apple Airpods Headphones'}), confidence=0.002175523051286799, lift=1.040728233724963), OrderedStatistic(items_base=frozenset({'iPhone'}), items_add=frozenset({'Apple Airpods Headphones', 'Lightning Charging Cable'}), confidence=0.006872349758736658, lift=10.571332771982194), OrderedStatistic(items_base=frozenset({'Apple Airpods Headphones', 'Lightning Charging Cable'}), items_add=frozenset({'iPhone'}), confidence=0.4051724137931035, lift=10.571332771982194), OrderedStatistic(items_base=frozenset({'iPhone', 'Apple Airpods Headphones'}), items_add=frozenset({'Lightning Charging Cable'}), confidence=0.1260053619302949, lift=1.040728233724963), OrderedStatistic(items_base=frozenset({'iPhone', 'Lightning Charging Cable'}), items_add=frozenset({'Apple Airpods Headphones'}), confidence=0.046488625123639965, lift=0.5343152536271705)])\n",
    "\n",
    "#### Sample Output of print(list(item)): \n",
    "\n",
    "[frozenset({'iPhone', 'Apple Airpods Headphones', 'Lightning Charging Cable'}), 0.00026339976237978885, [OrderedStatistic(items_base=frozenset({'Apple Airpods Headphones'}), items_add=frozenset({'iPhone', 'Lightning Charging Cable'}), confidence=0.0030273752012882453, lift=0.5343152536271705), OrderedStatistic(items_base=frozenset({'Lightning Charging Cable'}), items_add=frozenset({'iPhone', 'Apple Airpods Headphones'}), confidence=0.002175523051286799, lift=1.040728233724963), OrderedStatistic(items_base=frozenset({'iPhone'}), items_add=frozenset({'Apple Airpods Headphones', 'Lightning Charging Cable'}), confidence=0.006872349758736658, lift=10.571332771982194), OrderedStatistic(items_base=frozenset({'Apple Airpods Headphones', 'Lightning Charging Cable'}), items_add=frozenset({'iPhone'}), confidence=0.4051724137931035, lift=10.571332771982194), OrderedStatistic(items_base=frozenset({'iPhone', 'Apple Airpods Headphones'}), items_add=frozenset({'Lightning Charging Cable'}), confidence=0.1260053619302949, lift=1.040728233724963), OrderedStatistic(items_base=frozenset({'iPhone', 'Lightning Charging Cable'}), items_add=frozenset({'Apple Airpods Headphones'}), confidence=0.046488625123639965, lift=0.5343152536271705)]]\n",
    "\n",
    "### Sample output of list(rule):\n",
    "\n",
    "[frozenset({'Apple Airpods Headphones'}), frozenset({'iPhone', 'Lightning Charging Cable'}), 0.0030273752012882453, 0.5343152536271705]"
   ]
  },
  {
   "cell_type": "markdown",
   "id": "e6baa3fa",
   "metadata": {},
   "source": [
    "# `STEP-4.` Further Enhancements.\n",
    "\n",
    "a) You can use `mlxtend` for comparing above results of Market Baseket Analysis.\n",
    "\n",
    "b) You can suggest to customers according to his orders."
   ]
  },
  {
   "cell_type": "markdown",
   "id": "0beac604",
   "metadata": {},
   "source": [
    "<img src=\"./images/thankyou.jpg\" width=100 />\n",
    "\n",
    "# Thank You for Visiting and Exploring my ideas and codes. Glad to share this to you."
   ]
  },
  {
   "cell_type": "markdown",
   "id": "de02196b",
   "metadata": {},
   "source": [
    "\n",
    "## Thanking to `CodeClause` for this golden opportunity to improve and enhance myself in \n",
    "\n",
    "## the field of DataScience\n",
    "\n",
    "\n",
    "###  References:\n",
    "\n",
    "https://towardsai.net/p/l/ecommerce-data-analysis-for-sales-strategy-using-python\n",
    "\n",
    "https://www.analyticsvidhya.com/blog/2021/10/a-comprehensive-guide-on-market-basket-analysis/\n",
    "\n",
    "\n",
    "### Contact  me:\n",
    "\n",
    "linkedin: https://www.linkedin.com/in/abhishek-thapa-b9a733199/\n",
    "\n",
    "### Youtube Channel : `64bitCODING`\n",
    "\n",
    "## `Uploaded Explanation Video Link of this Task.`\n",
    "\n",
    "https://www.youtube.com/watch?v=1vqtBf53OmU&t=1106s\n",
    "\n",
    "\n",
    "Plese do Like and Suscribe and Support me.Thanks every passionate learner in advance!\n",
    "Also, Dont forget to reference my contents if you are using anywhere.\n",
    "\n",
    "<img src=\"./images/ytChannel.png\"/>\n",
    "\n",
    "Copyright © 2022, Abhishek Thapa Inc. All Rights Reserved"
   ]
  },
  {
   "cell_type": "code",
   "execution_count": null,
   "id": "7bc565dd",
   "metadata": {},
   "outputs": [],
   "source": []
  }
 ],
 "metadata": {
  "kernelspec": {
   "display_name": "Python 3 (ipykernel)",
   "language": "python",
   "name": "python3"
  },
  "language_info": {
   "codemirror_mode": {
    "name": "ipython",
    "version": 3
   },
   "file_extension": ".py",
   "mimetype": "text/x-python",
   "name": "python",
   "nbconvert_exporter": "python",
   "pygments_lexer": "ipython3",
   "version": "3.10.6"
  }
 },
 "nbformat": 4,
 "nbformat_minor": 5
}
